{
 "cells": [
  {
   "cell_type": "code",
   "execution_count": 34,
   "metadata": {},
   "outputs": [],
   "source": [
    "## IMPORTS\n",
    "import pydicom\n",
    "import glob\n",
    "from tqdm import tqdm\n",
    "import cv2\n",
    "import datetime\n",
    "\n",
    "import numpy as np\n",
    "import cupy as cp\n",
    "\n",
    "import matplotlib.pyplot as plt\n",
    "%matplotlib qt\n",
    "\n",
    "import vispy.plot\n",
    "import vispy.app\n",
    "%gui qt\n",
    "\n",
    "na                  = np.asarray\n",
    "xm = {\n",
    "    np:             (np.asarray, np.asarray, np.asarray, np),\n",
    "    cp:             (cp.asarray, cp.asnumpy, cp.asarray, cp),\n",
    "}  # (da, ha, xa, xp)\n",
    "xdarray2xp          = lambda xdarray: {np.ndarray: np, cp.ndarray: cp}[type(xdarray)]\n",
    "\n",
    "AXALL, AXNEW = (slice(None),), (None,)\n",
    "\n",
    "ceil = lambda x: int(x) + (int(x) != x)\n",
    "\n",
    "xd, xh, xa, xp = xm[cp]   \n",
    "proc_dtype              = np.float16\n",
    "\n",
    "import xmltodict\n",
    "import gzip\n",
    "import skimage.metrics"
   ]
  },
  {
   "cell_type": "code",
   "execution_count": 10,
   "metadata": {},
   "outputs": [],
   "source": [
    "## COMMONS \n",
    "na = np.asarray\n",
    "\n",
    "def pad_patchify(\n",
    "        input_array: np.ndarray,                                ##(*bdim, *pdim) \n",
    "        padded_patch_shape,                                     ##(             pdim)\n",
    "        pad_shape,                                              ##({shu+shr},   pdim)\n",
    "        input_crop_shape,                                       ##({shu+shr},   pdim)\n",
    "        patch_excess_min,                                       ##(             pdim)\n",
    "        pad_mode=\"edge\",                                        # numpy.pad(mode=)\n",
    "        tv = None,                                           # str\n",
    "):\n",
    "    pdim    = padded_patch_shape.__len__()                      # patch dimensions no\n",
    "    bdim    = input_array.shape.__len__() - pdim                # batch dimensions no\n",
    "\n",
    "    ## calc actual lower padding (not being covered by crop margin)\n",
    "    pad_shl,  pad_shr   = na(pad_shape)                         # shl, shu, shr = shape [span] lower, upper, rearwards\n",
    "    crop_shl, crop_shr  = na(input_crop_shape)        \n",
    "    arr2opa_shl         = crop_shl - pad_shl                    # position of opa's i0 relative to array (consider it vec); opa = outer-padded array\n",
    "    opa2arr_shl         = pad_shl - crop_shl                    # postition of array's i0 relative to opa\n",
    "    arr_crop_shl        = np.maximum(0, arr2opa_shl)            # reduce input cropping if no enough crop to satisfy padding\n",
    "    opa_pad_shl         = np.maximum(0, opa2arr_shl)            # pad needing artificial fulfilling as not being covered by cropped image\n",
    "\n",
    "    ## calc how much patches will be there  \n",
    "    array_sh            = na(input_array.shape[ bdim:])\n",
    "    crarr_sh            = array_sh - (crop_shl + crop_shr)      # crarr = cropped_array\n",
    "    pdp_sh              = na(padded_patch_shape)                # pdp = padded_patch\n",
    "    upd_sh              = pdp_sh - (pad_shl+pad_shr)            # upd = unpadded[_patch]\n",
    "    patch_step          = upd_sh                                # step between 0th elements of consecutive patches\n",
    "    upd_ex_min_sh       = na(patch_excess_min)\n",
    "    pgrid_sh, pex_rm_sh = np.divmod(crarr_sh, patch_step)\n",
    "    pex_accept          = pex_rm_sh > upd_ex_min_sh\n",
    "    pgrid_sh            = pgrid_sh + pex_accept\n",
    "\n",
    "    ## calc opa upper padding\n",
    "    opa_sh              = (pgrid_sh * upd_sh) + (pad_shl + pad_shr)\n",
    "    arr2opa_shu         = arr2opa_shl + opa_sh \n",
    "    opa2arr_shu         = opa2arr_shl + array_sh\n",
    "    arr_crop_shu        = np.minimum(array_sh, arr2opa_shu)\n",
    "    opa_pad_shu         = np.minimum(opa_sh,   opa2arr_shu)\n",
    "    opa_pad_shr         = opa_sh - opa_pad_shu\n",
    "\n",
    "    ## quick checks\n",
    "    assert np.all(upd_sh > 0)                                   # is patch containing anything beside patch\n",
    "    assert np.all(upd_ex_min_sh <= upd_sh)                      # is patch_excess_min positive\n",
    "    assert np.all(pgrid_sh > 0)                                 # is possible to create at least one patch (by input shape, patch shape, patch excess)\n",
    "\n",
    "    ## opa = input crop & outer-pad\n",
    "    batch_sh            = na(input_array.shape[:bdim ])\n",
    "    batch_all           = (slice(None),)    *bdim\n",
    "    batch_pad           = (0,)              *bdim\n",
    "    input_crop          = tuple(slice(aclx, acux)   for aclx, acux in zip(arr_crop_shl, arr_crop_shu))\n",
    "    opa                 = np.pad(\n",
    "                                        input_array[batch_all + input_crop], \n",
    "                            pad_width=  na((\n",
    "                                            batch_pad + tuple(opa_pad_shl), \n",
    "                                            batch_pad + tuple(opa_pad_shr))).T, \n",
    "                            mode=       pad_mode) # type: ignore\n",
    "    \n",
    "    ## patchify\n",
    "    patch_array         = np.zeros(())\n",
    "    pgrid_og            = np.ogrid[tuple(slice(pgsx) for pgsx in pgrid_sh)]\n",
    "    patch_og            = np.ogrid[tuple(slice(pasx) for pasx in pdp_sh)]\n",
    "    pg2pa_og            = tuple(\n",
    "                                (pgogx * pstepx)[(slice(None),) *pdim   + (None,)           *pdim] \n",
    "                            +   paogx           [(None,)        *pdim   + (slice(None),)    *pdim] \n",
    "                            for     pgogx,      pstepx,     paogx \n",
    "                            in zip( pgrid_og,   patch_step, patch_og))\n",
    "    \n",
    "    for _ in tqdm((None,), desc=f\"{tv} [PBX={pgrid_sh.prod()}]\", disable=not tv):\n",
    "        patch_array     = opa[batch_all + pg2pa_og]\n",
    "\n",
    "    ## save info about actual shape for merging\n",
    "    pgrid_shape         = tuple(pgrid_sh)\n",
    "    pex_crop_shr        = (upd_sh - pex_rm_sh) * pex_accept\n",
    "    array_shape         = (pgrid_sh * upd_sh) - pex_crop_shr\n",
    "\n",
    "    return patch_array, pgrid_shape, array_shape\n",
    "\n",
    "def pad_unpatchify(\n",
    "        patch_array: np.ndarray,\n",
    "        padded_patch_shape,\n",
    "        pad_shape,\n",
    "        array_shape,\n",
    "        tv = None\n",
    "):\n",
    "    pdim                = padded_patch_shape.__len__()\n",
    "    bdim                = patch_array.shape.__len__() - (pdim *2)\n",
    "\n",
    "    ## calc pads\n",
    "    pdp_sh              = na(padded_patch_shape)\n",
    "    pad_shl,  pad_shr   = na(pad_shape)\n",
    "    upd_sh              = pdp_sh - (pad_shl+pad_shr)\n",
    "    patch_step          = upd_sh\n",
    "\n",
    "    pad_shu             = pdp_sh - pad_shr\n",
    "    pgrid_shape         = patch_array.shape[bdim:-pdim]\n",
    "    pgrid_sh            = na(pgrid_shape)\n",
    "\n",
    "    ## unpatchify\n",
    "    batch_shape         = patch_array.shape[:bdim ]\n",
    "    batch_all           = (slice(None),) *bdim\n",
    "    unpad_crop          = (slice(None),) *pdim + tuple(slice(pshlx, pshux) for pshlx, pshux in zip(pad_shl, pad_shu))\n",
    "    pgrid_og            = np.ogrid[tuple(slice(pgsx) for pgsx in pgrid_sh)]\n",
    "    patch_og            = np.ogrid[tuple(slice(pasx) for pasx in upd_sh)]\n",
    "    pg2pa_og            = tuple(\n",
    "                                (pgogx * pstepx)[(slice(None),) *pdim   + (None,)           *pdim] \n",
    "                            +   paogx           [(None,)        *pdim   + (slice(None),)    *pdim] \n",
    "                            for     pgogx,      pstepx,     paogx \n",
    "                            in zip( pgrid_og,   patch_step, patch_og))\n",
    "\n",
    "    ## merge\n",
    "    output_array_ex_sh  = pgrid_sh * upd_sh\n",
    "    output_array_ex     = np.zeros((*batch_shape, *output_array_ex_sh), dtype=patch_array.dtype)\n",
    "\n",
    "    for _ in tqdm((None,), desc=f\"{tv} [PBX={pgrid_sh.prod()}]\", disable=not tv):\n",
    "        output_array_ex[batch_all + pg2pa_og] = patch_array[batch_all + unpad_crop]\n",
    "\n",
    "    ## discard excess\n",
    "    output_array_sh     = array_shape\n",
    "    output_array        = output_array_ex[(...,) + tuple(slice(osx) for osx in output_array_sh)]\n",
    "\n",
    "    return output_array\n",
    "\n",
    "def batchify(\n",
    "        pbatch_iter,                                            ##(bdim*p[g]dim, pdim)\n",
    "        patch_shape,                                            ##(pdim)\n",
    "        umem_pool,                                                # bytes / type.nbytes\n",
    "        umem_poly,                                               # (1, root(pdim, mlt(patch_sh)), root(pdim, mlt(patch_sh)**2), ..., ) | %todo\n",
    "        tv=None,\n",
    "        xp=np,\n",
    "):\n",
    "    ## batch_size calc\n",
    "    pdim                = patch_shape.__len__()\n",
    "    umem_poly           = na(umem_poly)\n",
    "\n",
    "    if  umem_poly.shape.__len__() == 1:                     # convert linear polynomial to dimensional one\n",
    "        umem_poly_lin       = umem_poly\n",
    "        umem_poly_lin_l     = umem_poly_lin.__len__()\n",
    "        umem_poly_shx       = int(np.ceil((umem_poly_lin_l-1)/pdim) + 1)\n",
    "        umem_poly_lin_lp    = (umem_poly_shx * pdim) - pdim + 1\n",
    "        umem_poly_lin       = np.pad(umem_poly_lin, \n",
    "                                (0, umem_poly_lin_lp - umem_poly_lin_l), \n",
    "                                \"constant\", constant_values=0) # type: ignore\n",
    "        umem_poly_map       = np.mgrid[(slice(umem_poly_shx),) *pdim].sum(axis=0)\n",
    "        umem_poly           = umem_poly_lin[umem_poly_map]\n",
    "        patch_shape         = (np.prod(patch_shape) **(1/pdim),) *pdim\n",
    "    assert  umem_poly.shape.__len__() ==  pdim\n",
    "\n",
    "    umem_deters         = np.multiply.reduce(na(tuple(\n",
    "                            np.power(   pshx,           pogx) \n",
    "                            for         pshx,           pogx \n",
    "                            in zip(     patch_shape,    np.ogrid[tuple(slice(ups) for ups in umem_poly.shape)])),\n",
    "                            dtype=object))\n",
    "    umem_estim          = (umem_poly * umem_deters).sum()\n",
    "    batch_size          = int(umem_pool // umem_estim)\n",
    "    if not batch_size > 0:\n",
    "        print(umem_pool/umem_estim)\n",
    "    assert batch_size > 0\n",
    "\n",
    "    ## batchify iterations\n",
    "    # iters_nd            = xp.fromiter(pbatch_iter, dtype=int)\n",
    "    iters_nd            = xp.asarray(list(pbatch_iter))\n",
    "    iters_l             = iters_nd.__len__()\n",
    "    iters_gen           = [((bind.__len__(),), tuple(bind.T))\n",
    "                            for bix in range(0, iters_l, batch_size)\n",
    "                            for bind in (iters_nd[bix:(bix+batch_size)],)]\n",
    "    iters_tq            = tqdm(iters_gen, desc=f\"{tv} [PBX={batch_size}/{iters_l}]\", disable=not tv)\n",
    "    return iters_tq\n",
    "\n",
    "na = np.asarray\n",
    "\n",
    "zero_kenrel = na([\n",
    "    [[ 0,  0,  0], [ 0,  0,  0], [ 0,  0,  0]],\n",
    "    [[ 0,  0,  0], [ 0,  0,  0], [ 0,  0,  0]],\n",
    "    [[ 0,  0,  0], [ 0,  0,  0], [ 0,  0,  0]],\n",
    "\n",
    "])\n",
    "\n",
    "# X- Z| Y\\\n",
    "sobel_kernel3_gen = na([\n",
    "    [[-1, -2, -1], [-2, -4, -2], [-1, -2, -1]],\n",
    "    [[ 0,  0,  0], [ 0,  0,  0], [ 0,  0,  0]],\n",
    "    [[+1, +2, +1], [+2, +4, +2], [+1, +2, +1]],\n",
    "])\n",
    "sobel_kernel3s = (\n",
    "    sobel_kernel3_gen.swapaxes(0, 2), #z\n",
    "    sobel_kernel3_gen.swapaxes(0, 1), #y\n",
    "    sobel_kernel3_gen, #x\n",
    ")[::-1] # (iAxis<kernel>, kZ, kY, kX)\n",
    "\n",
    "\n",
    "def kernel_apply(patch_pd_shape_in, kernel, kernel_center=None):\n",
    "    kernel_shape        = kernel.shape\n",
    "    kernel_center       = kernel_center if kernel_center is not None else tuple((kshx-1)//2 for kshx in kernel_shape)\n",
    "    assert patch_pd_shape_in.__len__() == kernel_shape.__len__()\n",
    "    assert all(0 <= kcxx and kcxx < kshx for kcxx, kshx in zip(kernel_center, kernel_shape))\n",
    "\n",
    "    pad_shape_io        = (\n",
    "        tuple(kcx           for _,   kcx    in zip(kernel_shape, kernel_center)), \n",
    "        tuple((ksx-1)-kcx   for ksx, kcx    in zip(kernel_shape, kernel_center)))\n",
    "\n",
    "    if (pad_shape_in:=None) is not None: \n",
    "        raise NotImplementedError\n",
    "    else:\n",
    "        kernel_adjust   = (0,) *kernel_shape.__len__()\n",
    "        pad_shape_op    = ((0,) *kernel_shape.__len__(),)*2\n",
    "\n",
    "    patch_pd_shape_op      = tuple(\n",
    "        patch_shx - (pad_shxl + pad_shul)                      \n",
    "            for patch_shx, pad_shxl, pad_shul in zip(patch_pd_shape_in, *pad_shape_io))    # unpadded preferably\n",
    "        \n",
    "    ixt_gen = tuple((\n",
    "        kernel_ixt,                                                                                                             # kernel_mask\n",
    "        tuple(slice(kix + kadjx, asx + kix + kadjx) for kix, asx, kadjx in zip(kernel_ixt, patch_pd_shape_op, kernel_adjust)),  # patch_mask\n",
    "        ) for kernel_ixt in xp.ndindex(kernel_shape) if kernel[kernel_ixt] != 0\n",
    "    )\n",
    "    \n",
    "    return patch_pd_shape_op, pad_shape_op, ixt_gen\n",
    "\n",
    "def _kernel_apply2_iter(pgrid_shape, dtype, xp, ixt_gen, patch_pd_shape_op):\n",
    "    patch_op = xp.zeros((*pgrid_shape, *patch_pd_shape_op), dtype=dtype)\n",
    "    for ixt_gen_op in ixt_gen: yield (*ixt_gen_op, patch_op)\n",
    "\n",
    "def kernel_apply2(patch_pd_shape_in, kernel, kernel_center=None, dtype=None):\n",
    "    patch_pd_shape_op, pad_shape_op, ixt_gen = kernel_apply(patch_pd_shape_in, kernel, kernel_center)\n",
    "    return patch_pd_shape_op, pad_shape_op, lambda pgrid_shape=(): _kernel_apply2_iter(pgrid_shape, dtype, xdarray2xp(kernel), ixt_gen, patch_pd_shape_op)\n"
   ]
  },
  {
   "cell_type": "code",
   "execution_count": 11,
   "metadata": {},
   "outputs": [],
   "source": [
    "## GRADIENT > EXEC\n",
    "kbim                    = 3 # kernel batch dimension\n",
    "pdim                    = 3\n",
    "patch_pdshin            = (16, )    *pdim               # patch_padded_shape_in\n",
    "pad_shape_in            = ((1, )    *pdim,) *2\n",
    "\n",
    "def fcn_gradient(dsi):\n",
    "    xd, xh, xa, xp          = xm[cp]  \n",
    "\n",
    "    kernel_sobel_d          = xd(sobel_kernel3s)\n",
    "\n",
    "    dspdin, pgrid_shape, amerge_shape   \\\n",
    "                            = pad_patchify(dsi, patch_pdshin, pad_shape_in, ((0,)*3,)*2, (0,)*3, tv=\"patchify\")\n",
    "\n",
    "    _osh                    = patch_pdshin\n",
    "    _osh, _psh, iter_sobel  = kernel_apply2(_osh, kernel_sobel_d[0], (1,)*pdim, xp.float32)\n",
    "    patch_pdshop            = _osh\n",
    "    pad_shape_op            = _psh\n",
    "    dspaop_amp_pl              = np.zeros((3, *pgrid_shape, *patch_pdshop), dtype=proc_dtype)  # dtype=dspain.dtype) # % todo: parametrize when input data signed\n",
    "    dspaop_arc_pl              = np.zeros((3, *pgrid_shape, *patch_pdshop), dtype=proc_dtype)  # dtype=dspain.dtype) # % todo: parametrize when input data signed\n",
    "\n",
    "    for bl, bix             in batchify(np.ndindex(pgrid_shape), patch_pdshin, \n",
    "                                2**31 //2, (*(0,)*pdim, 120), tv=\"linear kernel batchified seqencing\"):\n",
    "        patch_in_d          = xd(dspdin[bix])\n",
    "\n",
    "        for kernel_ixt, patch_sxt, op_sobel in iter_sobel((*bl, kbim)): \n",
    "            op_sobel[:] +=  patch_in_d[(*AXALL, *AXNEW, *patch_sxt)]   * kernel_sobel_d[(*AXALL, *kernel_ixt, *AXNEW*3)]\n",
    "        patch_op_amp     = xp.sqrt(((op_sobel[:, [[1,2], [0,2], [0,1]]]) **2).sum(axis=2)).astype(proc_dtype) # ZYX (as normals)\n",
    "        patch_op_arc     = xp.arctan2(op_sobel[:, [2,0,1]], op_sobel[:, [1,2,0]]).astype(proc_dtype) # ZYX\n",
    "\n",
    "        dspaop_amp_pl[(*AXALL, *bix,)] = xh(patch_op_amp.swapaxes(1, 0))\n",
    "        dspaop_arc_pl[(*AXALL, *bix,)] = xh(patch_op_arc.swapaxes(1, 0))\n",
    "\n",
    "\n",
    "    dsa_amp_pl          = pad_unpatchify(dspaop_amp_pl, patch_pdshop, pad_shape_op, amerge_shape, tv=\"unpatchify\") #= aom[:, 0]\n",
    "    dsa_arc_pl          = pad_unpatchify(dspaop_arc_pl, patch_pdshop, pad_shape_op, amerge_shape, tv=\"unpatchify\") #= aom[:, 1]\n",
    "    return dsa_amp_pl, dsa_arc_pl"
   ]
  },
  {
   "cell_type": "code",
   "execution_count": 12,
   "metadata": {},
   "outputs": [],
   "source": [
    "## CIRCSEGM > INIT\n",
    "xd, xh, xa, xp          = xm[cp] \n",
    "\n",
    "index_dtype = xp.int16\n",
    "proc_dtype  = xp.float32\n",
    "radii_dtype = xp.float32\n",
    "score_dtype = xp.float32\n",
    "xd, xh, xa, xp = xm[cp]      \n",
    "ndim=3       \n",
    "\n",
    "mmclamm = 600\n",
    "mm_clamp = (mmclamm, mmclamm+1)\n",
    "\n",
    "## V mm\n",
    "cc_mask_stddev = 1\n",
    "cc_mask_threshold = .3\n",
    "cc_score_cutoff = .35\n",
    "cc_radii_cutoff = 5.01\n",
    "\n",
    "ccrrl = list(np.arange(1, 2.01, 1)) + list(np.arange(3, 16.01, 2))\n",
    "ccrrl = sorted(ccrrl)\n",
    "assert any(crx < cc_radii_cutoff for crx in ccrrl)\n",
    "\n",
    "pad_cc_radius = ceil(max(ccrrl) + (cc_mask_stddev*2))\n",
    "pad_ms_radius = ceil(max(ccrrl)) #//2\n",
    "\n",
    "# sh_incircsegm = (20, 512, 512, )\n",
    "innsh = 128\n",
    "\n",
    "nd_2d2z = (*AXNEW, *AXALL, *AXALL)\n",
    "nd_rollaxes = tuple(tuple((idim+jdim)%ndim for idim in range(ndim)) for jdim in range(ndim))\n",
    "nd_z2i = lambda z2i, idim: xdarray2xp(z2i).moveaxis(z2i, nd_rollaxes[0], nd_rollaxes[idim])\n"
   ]
  },
  {
   "cell_type": "code",
   "execution_count": 13,
   "metadata": {},
   "outputs": [],
   "source": [
    "## CIRCSEGM > EXEC\n",
    "xd, xh, xa, xp = xm[cp]   \n",
    "ndim = 3\n",
    "# ndim = 0 ## DISABLE\n",
    "onlyz = True\n",
    "\n",
    "def fcn_circsegm(dsa_amp_pl, dsa_arc_pl):\n",
    "    if True:\n",
    "        sh_incircsegm   = dsa_amp_pl.shape[-ndim:]\n",
    "        sh_padded_nd    = tuple(tuple((shx+pad_cc_radius*2) if shi!=idim else innsh for shi, shx in enumerate(sh_incircsegm)) for idim in range(ndim))\n",
    "        sh_unpadd_nd    = tuple(tuple(na(sh_padded_nd[idim]) - (np.arange(ndim)   != idim)*2*pad_cc_radius) for idim in range(ndim))\n",
    "        sh_mspadd_nd    = tuple(tuple(na(sh_unpadd_nd[idim]) + (np.arange(ndim)   != idim)*2*pad_ms_radius) for idim in range(ndim))\n",
    "        sh_inppad_nd    = tuple((tuple((0 if idim==jdim else pad_cc_radius) for jdim in range(ndim)),)*2    for idim in range(ndim))\n",
    "        sh_mspadd_ms    = tuple(tuple((0,)*2 if idim==jdim else (pad_ms_radius,)*2 for jdim in range(ndim)) for idim in range(ndim))\n",
    "        pad_ms_mxa = xp.mgrid[(slice(-pad_ms_radius, pad_ms_radius+1),)*2].astype(index_dtype)\n",
    "        pad_ms_amp = xp.sqrt((pad_ms_mxa.astype(radii_dtype)**2).sum(axis=0))\n",
    "        pad_ms_mask = (pad_ms_amp <= pad_ms_radius) * (pad_ms_amp > 0)\n",
    "        iter_adjmax_mask_nd = tuple(tuple(\n",
    "                (nd_z2i(pad_ms_amp[nd_2d2z], idim)[kernel_ixt], patch_sxt) \n",
    "                    for kernel_ixt, patch_sxt in kernel_apply(sh_mspadd_nd[idim], nd_z2i(pad_ms_mask[nd_2d2z], idim))[-1])\n",
    "            for idim in range(ndim))\n",
    "\n",
    "        pad_cc_mxa = xp.mgrid[(slice(-pad_cc_radius, pad_cc_radius+1),)*2].astype(index_dtype)\n",
    "        pad_cc_amp = xp.sqrt((pad_cc_mxa.astype(radii_dtype)**2).sum(axis=0))\n",
    "        pad_cc_arc = xp.arctan2(pad_cc_mxa[1], pad_cc_mxa[0])\n",
    "\n",
    "    circ_gen_zyx = []\n",
    "    for idim in range(ndim):\n",
    "        circ_gen_i = []\n",
    "        for ixcr, ccrr in enumerate(ccrrl):\n",
    "            cc_mask_stddev = cc_mask_stddev \n",
    "            ccr_rim = ccrr\n",
    "            cc_divs = int(ccr_rim*2)\n",
    "\n",
    "            cc_mask = xp.exp(-((pad_cc_amp-ccr_rim)/cc_mask_stddev)**2)\n",
    "            cc_mask[cc_mask < cc_mask_threshold] = 0\n",
    "            cc_mask /= (cc_divs)\n",
    "\n",
    "            cc_mask_nd = nd_z2i(cc_mask[nd_2d2z], idim)\n",
    "\n",
    "            cc_arc_discr = (2*xp.pi)/cc_divs\n",
    "            cc_mask_arc_discr = xp.floor((pad_cc_arc/cc_arc_discr))\n",
    "            cc_mad_nd = nd_z2i(cc_mask_arc_discr[nd_2d2z], idim)\n",
    "            # cc_mask_arc = ((cc_mask_arc_discr+.5)*cc_arc_discr)\n",
    "\n",
    "            iter_ccmask_rad = tuple((\n",
    "                    (cc_discr+.5)*cc_arc_discr,\n",
    "                    tuple((\n",
    "                        tuple(kernel_ixt),\n",
    "                        tuple(slice(kix, asx + kix) for kix, asx in zip(kernel_ixt, sh_unpadd_nd[idim])),\n",
    "                    ) for kernel_ixt in xa(xp.where((cc_mask_nd!=0)*(cc_mad_nd==cc_discr))).astype(index_dtype).T))\n",
    "                for cc_discr in range(-cc_divs//2, cc_divs//2+1))\n",
    "            \n",
    "            circ_gen_i.append((cc_mask_nd, ccr_rim, iter_ccmask_rad))\n",
    "        circ_gen_zyx.append(circ_gen_i)\n",
    "    print(\"INIT_DONE\")\n",
    "\n",
    "\n",
    "    image_c = dsa_amp_pl\n",
    "    image_c = np.clip((image_c-mm_clamp[0])/(mm_clamp[1]-mm_clamp[0]), 0, 1)\n",
    "    image_a = dsa_arc_pl\n",
    "\n",
    "    if ndim > 0:\n",
    "        ds_circsegmout = np.zeros((ndim,) + dsa_amp_pl[0].shape, dtype=radii_dtype)\n",
    "    for idim in range(ndim):\n",
    "        if onlyz and idim!=0: break\n",
    "\n",
    "        image_amp, pgrid_shape, amerge_shape = pad_patchify(image_c, sh_padded_nd[idim], sh_inppad_nd[idim], ((0,)*3,)*2, (0,)*3, tv=f\"patchify amp {idim}/{ndim}\")\n",
    "        image_arc, pgrid_shape, amerge_shape = pad_patchify(image_a, sh_padded_nd[idim], sh_inppad_nd[idim], ((0,)*3,)*2, (0,)*3, tv=f\"patchify arc {idim}/{ndim}\")\n",
    "        ds_circsegmout_i = np.zeros(pgrid_shape + sh_unpadd_nd[idim], dtype=radii_dtype)\n",
    "\n",
    "        for bl, bix         in batchify(np.ndindex(pgrid_shape), patch_pdshin, 1, (1,0,0,0,0), tv=f\"circular segmentation batchified sequencing {idim}/{ndim}\"):\n",
    "            image_ampb  = xd(image_amp[(idim,) + bix][0])\n",
    "            image_arcb  = xd(image_arc[(idim,) + bix][0])\n",
    "\n",
    "            circ_score = xp.zeros(sh_unpadd_nd[idim], dtype=score_dtype)\n",
    "            circ_radii = xp.zeros(sh_unpadd_nd[idim], dtype=radii_dtype)\n",
    "\n",
    "            for (cc_mask_d, ccr_rim, iter_ccmask_rad,) in circ_gen_zyx[idim]:\n",
    "                pdop_ccmask_rad = xp.zeros(sh_unpadd_nd[idim], dtype=score_dtype)\n",
    "                for kernel_arc, iter_ccmask in iter_ccmask_rad:\n",
    "                    pdop_ccmask_ri = xp.zeros(sh_unpadd_nd[idim], dtype=score_dtype)\n",
    "                    image_arcr = xp.cos(image_arcb-kernel_arc)**8\n",
    "                    for kernel_ixt, patch_sxt, in iter_ccmask: \n",
    "                        pccm = image_ampb[patch_sxt] * cc_mask_d[kernel_ixt] * image_arcr[patch_sxt]\n",
    "                        pdop_ccmask_ri = xp.maximum(pdop_ccmask_ri, pccm)\n",
    "                    pdop_ccmask_rad += pdop_ccmask_ri\n",
    "\n",
    "                circ_score_recalc = pdop_ccmask_rad\n",
    "                ccovsc_bxa = (circ_score < circ_score_recalc)\n",
    "                circ_radii = np.where(ccovsc_bxa, ccr_rim,              circ_radii)\n",
    "                circ_score = np.where(ccovsc_bxa, circ_score_recalc,    circ_score)\n",
    "\n",
    "            circ_score_pd = xp.pad(circ_score, sh_mspadd_ms[idim], constant_values=0)\n",
    "            circ_radii_pd = xp.pad(circ_radii, sh_mspadd_ms[idim], constant_values=0)\n",
    "\n",
    "            ccscore_redux =  (cc_radii_cutoff <= circ_radii) * (cc_score_cutoff <= circ_score)\n",
    "            ccscore_redux_pd = xp.pad(ccscore_redux, sh_mspadd_ms[idim], constant_values=0)\n",
    "\n",
    "            ms_radii = circ_radii * ccscore_redux\n",
    "            for kernel_rad, patch_sxt in iter_adjmax_mask_nd[idim]: \n",
    "                ms_radii += (ccscore_redux_pd[patch_sxt] \n",
    "                    # * (circ_radii_pd[patch_sxt] + kernel_rad > circ_radii) \n",
    "                    * (1/(2*xp.pi*kernel_rad))\n",
    "                    * circ_score_pd[patch_sxt]\n",
    "                )\n",
    "            ms_radii_pd = xp.pad(ms_radii, sh_mspadd_ms[idim], constant_values=0)\n",
    "\n",
    "            circ_filteredout = ms_radii * ccscore_redux\n",
    "            for kernel_rad, patch_sxt in iter_adjmax_mask_nd[idim]: \n",
    "                # circ_filteredout *= (\n",
    "                #     (ms_radii_pd[patch_sxt] <= ms_radii) # ms circ bigger\n",
    "                #     + (circ_radii_pd[patch_sxt] <= kernel_rad))## #ms circ or lesser and out of range\n",
    "                circ_filteredout *= (False\n",
    "                    + (ms_radii_pd[patch_sxt]*(circ_score_pd[patch_sxt]-cc_score_cutoff) <= ms_radii * (circ_score-cc_score_cutoff)) #\n",
    "                    + (circ_radii_pd[patch_sxt] <= kernel_rad)## #ms circ or lesser and out of range\n",
    "        )\n",
    "\n",
    "            ds_circsegmout_i[bix] = xh(circ_filteredout) #[crop_ms[idim]]\n",
    "        ds_circsegmout[idim] = pad_unpatchify(ds_circsegmout_i, sh_unpadd_nd[idim], ((0,)*3,)*2, amerge_shape, tv=f\"output unpatchify {idim}/{ndim}\")\n",
    "\n",
    "    try:\n",
    "        del image_c, image_a, \n",
    "        del image_amp, image_arc, \n",
    "        del image_ampb, image_arcb, \n",
    "        del pdop_ccmask_ri, pccm, pdop_ccmask_rad, \n",
    "        del circ_score, circ_score_pd, \n",
    "        del circ_score_recalc, ccovsc_bxa\n",
    "        del circ_radii, circ_radii_pd, \n",
    "        del ccscore_redux, ccscore_redux_pd\n",
    "        del ms_radii, ms_radii_pd, circ_filteredout\n",
    "        del ds_circsegmout_i,\n",
    "    except: pass\n",
    "    \n",
    "    return ds_circsegmout"
   ]
  },
  {
   "cell_type": "code",
   "execution_count": 14,
   "metadata": {},
   "outputs": [],
   "source": [
    "## VERTSEGM > CLASSIFY SEGMENTS\n",
    "ndim = 3\n",
    "idim = 0\n",
    "\n",
    "junct_split_step = 20\n",
    "# dscs_db = xd(ds_circsegmout[idim, :, 200:300, 200:300])\n",
    "index_dtype = xp.int32\n",
    "\n",
    "def f1d_xa(xa_l):\n",
    "    lp = xdarray2xp(xa_l[0])\n",
    "    xa_ = lp.array(xa_l, dtype=object)\n",
    "    if xa_.shape.__len__() > 1:\n",
    "        xa = lp.zeros(xa_.shape[0], dtype=object)\n",
    "        for i in range(xa_.shape[0]): xa[i] = xa_[i]\n",
    "        return xa\n",
    "    else: return xa_\n",
    "\n",
    "index2_dtype = xp.int64\n",
    "\n",
    "px, py = ((idim+1)%ndim,), ((idim+2)%ndim,)\n",
    "radconnsq = lambda rm, rx: (xp.maximum(rm, rx)+1)**2 #+(xp.minimum(rm, rx)*0)#((rm+rx)/2)**2 #xp.minimum(rm, rx)**2 #(rm**2)+(rx**2) #xp.maximum(rm, rx)**2 ##\n",
    "\n",
    "\n",
    "def fcn_vertsegm(ds_circsegmout):\n",
    "    dscs_db = xd(ds_circsegmout[idim, :])\n",
    "\n",
    "    dscs_where = xp.where(dscs_db)\n",
    "    dscs_radii = dscs_db[dscs_where]\n",
    "    dscs_coord = xa(dscs_where).T\n",
    "\n",
    "    dscs_junct = xp.zeros(dscs_coord.shape[0], dtype=bool)\n",
    "    dscs_segme = xp.zeros(dscs_coord.shape[0], dtype=bool)\n",
    "    dscs_point = xp.zeros(dscs_coord.shape[0], dtype=bool)\n",
    "\n",
    "    dscs_sljcl = xp.zeros(dscs_coord.shape[0], dtype=index_dtype) -1\n",
    "    dscs_sljcu = xp.zeros(dscs_coord.shape[0], dtype=index_dtype) -1\n",
    "    dscs_segml = xp.zeros(dscs_coord.shape[0], dtype=index_dtype) -1\n",
    "\n",
    "    segm_origs_direct = xp.zeros((0, 2), dtype=index_dtype)\n",
    "\n",
    "    dl_axa, dl_coord, dl_radii = xp.zeros((0,), dtype=index_dtype), xp.zeros((0, ndim), dtype=index_dtype), xp.zeros((0,), dtype=radii_dtype)[(*AXNEW,)].T\n",
    "    dm_axa, dm_coord, dm_radii = xp.zeros((0,), dtype=index_dtype), xp.zeros((0, ndim), dtype=index_dtype), xp.zeros((0,), dtype=radii_dtype)[(*AXNEW,)].T\n",
    "    for idx in range(dscs_db.shape[idim]+1):  # dl -> dm -> du; classify junctions and segment elements \n",
    "        du_axa      = xp.where(dscs_coord[:, idim]==idx)[0]\n",
    "        du_coord    = dscs_coord[du_axa]\n",
    "        du_radii    = dscs_radii[du_axa][(*AXNEW,)].T\n",
    "        connl = ((dm_coord[:, px] - dl_coord[:, px].T)**2 + (dm_coord[:, py] - dl_coord[:, py].T)**2) <= radconnsq(dm_radii, dl_radii.T)\n",
    "        connu = ((dm_coord[:, px] - du_coord[:, px].T)**2 + (dm_coord[:, py] - du_coord[:, py].T)**2) <= radconnsq(dm_radii, du_radii.T)\n",
    "        connl_msum = connl[..., None].sum(axis=1).squeeze()\n",
    "        connu_msum = connu[..., None].sum(axis=1).squeeze()\n",
    "\n",
    "        pm_cs_split = not (idx%junct_split_step)\n",
    "        pm_origin_l = ((connl_msum == 0) * (connu_msum  > 0)) + ((connl_msum == 1) * (connu_msum > 1))\n",
    "        pm_origin_u = ((connu_msum == 0) * (connl_msum  > 0)) + ((connu_msum == 1) * (connl_msum > 1))\n",
    "        pm_junct_ex =  (connl_msum  > 1) + (connu_msum  > 1)\n",
    "        pm_contsegm = ((connl_msum == 1) * (connu_msum == 1))\n",
    "        pm_point_ex =  (connl_msum == 0) * (connu_msum == 0)\n",
    "\n",
    "        dscs_junct[dm_axa[pm_origin_l + pm_origin_u + pm_junct_ex + (pm_cs_split * ~pm_point_ex)]] = True\n",
    "        dscs_point[dm_axa[pm_point_ex]] = True\n",
    "        dscs_segme[dm_axa[pm_contsegm * (not pm_cs_split)]] = True\n",
    "\n",
    "        dl_axa, dl_coord, dl_radii = dm_axa, dm_coord, dm_radii\n",
    "        dm_axa, dm_coord, dm_radii = du_axa, du_coord, du_radii\n",
    "\n",
    "    dl_axa, dl_coord, dl_radii, dl_junct, dl_segme = xp.zeros((0,), dtype=index_dtype), xp.zeros((0, ndim), dtype=index_dtype), xp.zeros((0,), dtype=radii_dtype)[(*AXNEW,)].T, xp.zeros((0,), dtype=index_dtype)[(*AXNEW,)].T , xp.zeros((0,), dtype=index_dtype)[(*AXNEW,)].T \n",
    "    dm_axa, dm_coord, dm_radii, dm_junct, dm_segme = xp.zeros((0,), dtype=index_dtype), xp.zeros((0, ndim), dtype=index_dtype), xp.zeros((0,), dtype=radii_dtype)[(*AXNEW,)].T, xp.zeros((0,), dtype=index_dtype)[(*AXNEW,)].T , xp.zeros((0,), dtype=index_dtype)[(*AXNEW,)].T \n",
    "    for _, idx in enumerate(range(dscs_db.shape[idim]+1)):  # dl -> dm -> du; build segments\n",
    "        du_axa      = xp.where((dscs_coord[:, idim]==idx))[0]\n",
    "        du_coord    = dscs_coord[du_axa]\n",
    "        du_radii    = dscs_radii[du_axa][(*AXNEW,)].T \n",
    "        du_junct    = dscs_junct[du_axa][(*AXNEW,)].T \n",
    "        du_segme    = dscs_segme[du_axa][(*AXNEW,)].T\n",
    "\n",
    "        connl = ((dm_coord[:, px] - dl_coord[:, px].T)**2 + (dm_coord[:, py] - dl_coord[:, py].T)**2) <= radconnsq(dm_radii, dl_radii.T)\n",
    "        connu = ((dm_coord[:, px] - du_coord[:, px].T)**2 + (dm_coord[:, py] - du_coord[:, py].T)**2) <= radconnsq(dm_radii, du_radii.T)\n",
    "        conn2 = ((dl_coord[:, px] - du_coord[:, px].T)**2 + (dl_coord[:, py] - du_coord[:, py].T)**2) <= radconnsq(dl_radii, du_radii.T)\n",
    "\n",
    "        sm_juncl_junct, sl_juncl_junct = xp.where(connl * dm_junct * dl_junct.T)\n",
    "        sl_junc2_junct, su_junc2_junct = xp.where(conn2 * dl_junct * du_junct.T)\n",
    "        segm_origs_direct = xp.concatenate((segm_origs_direct, \n",
    "            xp.vstack((dl_axa[sl_juncl_junct], dm_axa[sm_juncl_junct])).T,\n",
    "            xp.vstack((dl_axa[sl_junc2_junct], du_axa[su_junc2_junct])).T, \n",
    "        ), axis=0)\n",
    "\n",
    "        sm_segml_junct, sl_segml_junct = xp.where(connl * dm_segme * dl_junct.T) \n",
    "        sm_segml_segme, sl_segml_segme = xp.where(connl * dm_segme * dl_segme.T) \n",
    "        sm_segmu_junct, su_segmu_junct = xp.where(connu * dm_segme * du_junct.T)  \n",
    "\n",
    "        dscs_segml[dm_axa[sm_segml_junct]] = dm_axa[sm_segml_junct]             # if new segment started, mark first segment element as self\n",
    "        dscs_segml[dm_axa[sm_segml_segme]] = dscs_segml[dl_axa[sl_segml_segme]] # if segment is continued, mark continuing element as first one\n",
    "\n",
    "        dscs_sljcl[dm_axa[sm_segml_junct]] = dl_axa[sl_segml_junct]\n",
    "        dscs_sljcu[dscs_segml[dm_axa[sm_segmu_junct]]] = du_axa[su_segmu_junct]\n",
    "\n",
    "        dl_axa, dl_coord, dl_radii, dl_junct, dl_segme = dm_axa, dm_coord, dm_radii, dm_junct, dm_segme\n",
    "        dm_axa, dm_coord, dm_radii, dm_junct, dm_segme = du_axa, du_coord, du_radii, du_junct, du_segme\n",
    "\n",
    "\n",
    "    ## VERTSEGM > CONNECT SEGMENTS\n",
    "    ## .1 > DEFINE SEGMENTS\n",
    "    segm_markers = dscs_segml[dscs_segme]\n",
    "    segm_uniqs_markers = xp.unique(segm_markers)\n",
    "    segm_uniqs = xp.stack((\n",
    "            dscs_sljcl[segm_uniqs_markers], \n",
    "            dscs_sljcu[segm_uniqs_markers],\n",
    "        ), axis=1)\n",
    "\n",
    "    e2e_enc = lambda e2e: (e2e[:, 0].astype(index2_dtype) * segm_uniqs.shape[0]) + e2e[:, 1]\n",
    "\n",
    "    segm_u1_enc = e2e_enc(segm_uniqs)\n",
    "    segm_u2_enc, segm_u12u2 = xp.unique(segm_u1_enc, return_index=True)\n",
    "    segm_uniqs = segm_uniqs[segm_u12u2] # reduce parallel segments of the same e2e to first occurence\n",
    "\n",
    "    dscs_segme_where = xp.where(dscs_segme)[0]\n",
    "    segm2points = [xp.concatenate((dscs_sljcl[((marker,),)], dscs_segme_where[xp.where(segm_markers == marker)[0]])) for marker in segm_uniqs_markers[segm_u12u2]]\n",
    "\n",
    "    assert xh(segm_uniqs[:, 0] < segm_uniqs[:, 1]).all()\n",
    "\n",
    "    # ## .2 > CONNECT JUNCTS\n",
    "    if True:\n",
    "        segm_origs_direct = segm_origs_direct\n",
    "        segm_uniqs_direct = segm_origs_direct\n",
    "\n",
    "        segm_bfl_direct = xp.zeros((0, 2), dtype=index_dtype)\n",
    "        segm_bfl_dir_full = []\n",
    "\n",
    "        segm_build = segm_uniqs_direct[xp.isin(segm_uniqs_direct[:, 0], segm_uniqs[:, 1])].reshape((-1, 1, 2)) # starts only where any uniqs ends\n",
    "        while True:\n",
    "            segm_furth = segm_uniqs_direct[xp.isin(segm_uniqs_direct[:, 0], segm_build[:, -1, 1])]\n",
    "            if segm_furth.shape[0] == 0: break\n",
    "\n",
    "            segm_bfi_furthb = xp.isin(segm_build[:, -1, 1], segm_furth[:, 0])  # is there any further to be connected\n",
    "            segm_bfi_accept = xp.isin(segm_build[:, -1, 1], segm_uniqs[:, 0])  # is the end of direct segment start of another standard one\n",
    "\n",
    "            segm_bfl_direct = xp.concatenate((segm_bfl_direct, segm_build[segm_bfi_accept][:, [0, -1], [0, 1]]))\n",
    "            segm_bfl_dir_full.extend(segm_build[segm_bfi_accept])\n",
    "\n",
    "            wh_build, wh_furth = xp.where(segm_build[:, -1, 1][:, None] == segm_furth[:, 0][None, :])\n",
    "            segm_build = xp.concatenate((segm_build[wh_build], segm_furth[wh_furth].reshape(-1, 1, 2)), axis=1)\n",
    "\n",
    "            _, segm_ll_e2e = xp.unique(e2e_enc(segm_build[:, (0, -1), (0, 1)]), return_index=True)\n",
    "            segm_build = segm_build[segm_ll_e2e]\n",
    "            \n",
    "        segm_conns_direct, sconnd_wh = (xd(xx) for xx in np.unique(xh(segm_bfl_direct), return_index=True, axis=0))\n",
    "        segm2points_direct = [segm_bfl_dir_full[xh(ix)][:, 0] for ix in sconnd_wh]\n",
    "        assert xh(xp.isin(segm_conns_direct[:, 0], segm_uniqs[:, 1]) * xp.isin(segm_conns_direct[:, 1], segm_uniqs[:, 0])).all()\n",
    "\n",
    "    # ## > MERGE\n",
    "    print(segm_uniqs.shape, segm_conns_direct.shape)\n",
    "    print(segm2points.__len__(), segm2points_direct.__len__())\n",
    "    segm_uniqs = xp.concatenate((segm_uniqs, segm_conns_direct))\n",
    "    segm2points = segm2points + segm2points_direct  # preserve indices\n",
    "\n",
    "    assert xh(dscs_coord[segm_uniqs[:, 0]][:, idim] < dscs_coord[segm_uniqs[:, 1]][:, idim])[0]\n",
    "    assert segm_uniqs.__len__() < np.iinfo(index_dtype).max\n",
    "\n",
    "    segm_bfl = []\n",
    "    segm_al_e2e = xp.zeros((0, 2), dtype=index2_dtype)\n",
    "    segm_efl = xp.zeros((0, 2), dtype=index_dtype)\n",
    "\n",
    "    # segm_build_total = segm_uniqs[~xp.isin(segm_uniqs[:, 0], segm_uniqs[:, 1])].reshape((-1, 1, 2))\n",
    "    segm_build_total = xp.where(~xp.isin(segm_uniqs[:, 0], segm_uniqs[:, 1]))[0].reshape((-1, 1))\n",
    "    segm_build_chunk_len = segm_build_total.__len__() # PARAM\n",
    "\n",
    "    for bixsc in range(0, segm_build_total.__len__(), segm_build_chunk_len):\n",
    "        segm_build = segm_build_total[bixsc:(bixsc+segm_build_chunk_len)]\n",
    "        while True:\n",
    "            segm_furth = xp.where(xp.isin(segm_uniqs[:, 0], segm_uniqs[segm_build][:, -1, 1]))[0]\n",
    "            if segm_furth.shape[0] == 0: break\n",
    "\n",
    "            segm_build_e2e_arl = xp.isin(e2e_enc(segm_uniqs[segm_build][:, (0, -1), (0, 1)]), e2e_enc(segm_al_e2e)) # if started segment already happened to be here\n",
    "            segm_build_tbcontd = xp.isin(segm_uniqs[segm_build][:, -1, 1], segm_uniqs[segm_furth][:, 0]) # if any more segments to add\n",
    "\n",
    "            segm_build_fin = segm_build[~segm_build_tbcontd]\n",
    "            segm_bfl.extend(segm_build_fin)\n",
    "            segm_efl = xp.concatenate((segm_efl, segm_uniqs[segm_build_fin][:, (0, -1), (0, 1)]))\n",
    "            print(segm_build_fin.shape, segm_furth.shape, end=\"; \")\n",
    "            segm_build = segm_build[segm_build_tbcontd * (~segm_build_e2e_arl)]\n",
    "\n",
    "            wh_build, wh_furth = xp.where(segm_uniqs[segm_build][:, -1, 1][:, None] == segm_uniqs[segm_furth][:, 0][None, :])\n",
    "            segm_al_e2e = xp.concatenate((segm_al_e2e, segm_uniqs[segm_build][:, (0, -1), (0, 1)]))\n",
    "            segm_build = xp.concatenate((segm_build[wh_build], segm_furth[wh_furth].reshape(-1, 1)), axis=1)\n",
    "\n",
    "            _, segm_ll_e2e = xp.unique(e2e_enc(segm_uniqs[segm_build][:, (0, -1), (0, 1)]), return_index=True)\n",
    "            segm_build = segm_build[segm_ll_e2e]\n",
    "\n",
    "    ## VERTSEGM > CONVERT\n",
    "    segm2points = np.fromiter(segm2points, dtype=object)\n",
    "    chain2sarg = np.fromiter(segm_bfl, dtype=object)   # segment argument\n",
    "    chain2se2e = np.fromiter([segm_uniqs[sarg] for sarg in segm_bfl], dtype=object) # end to end of segments by point argument\n",
    "    chain2ce2e = segm_efl\n",
    "    # s2p = np.fromiter(segm2points, dtype=object)\n",
    "    # chain2parg = [xp.concatenate(s2p[xh(sarg)]) for sarg in chain2sarg] # point argument\n",
    "\n",
    "    print(segm2points.shape, chain2sarg.shape, chain2ce2e.shape, xp.unique(e2e_enc(chain2ce2e)).shape)\n",
    "\n",
    "    return (\n",
    "        segm2points, chain2sarg, chain2se2e, chain2ce2e, \n",
    "        dscs_coord, dscs_radii, \n",
    "        segm_uniqs, segm2points,\n",
    "        dscs_segme, dscs_junct, dscs_point,\n",
    "    )"
   ]
  },
  {
   "cell_type": "code",
   "execution_count": 15,
   "metadata": {},
   "outputs": [],
   "source": [
    "## FILTER > PLANE POINTS\n",
    "# zkmp = gz\n",
    "zlen = 1\n",
    "\n",
    "def ds1_get(zkmp, vertsegm_opt):\n",
    "    (\n",
    "        segm2points, chain2sarg, chain2se2e, chain2ce2e, \n",
    "        dscs_coord, dscs_radii, \n",
    "        segm_uniqs, segm2points,\n",
    "        dscs_segme, dscs_junct, dscs_point,\n",
    "    )                           = vertsegm_opt\n",
    "\n",
    "    # filter long chains, get segments crossing defined plane\n",
    "    ch_long_enough = xp.where((dscs_coord[chain2ce2e[:, 1]][:, idim] - dscs_coord[chain2ce2e[:, 0]][:, idim]) >= zlen)[0]\n",
    "\n",
    "    ch_leal_sarg = xp.concatenate(chain2sarg[xh(ch_long_enough)])\n",
    "    ch_leuq_sarg = xp.unique(ch_leal_sarg)\n",
    "    clzsl = dscs_coord[segm_uniqs[ch_leuq_sarg]][:, :, 0].T - zkmp # chain long enough unique z kmeans points segment arg localized\n",
    "    ch_leuq_zkmp = ch_leuq_sarg[(clzsl[0]==0)|(clzsl[1]==0)|((clzsl[0]<0)&(clzsl[1]>0))]\n",
    "    print(ch_leal_sarg.shape, ch_leuq_sarg.shape, ch_leuq_zkmp.shape, zkmp)\n",
    "\n",
    "    # get points of plane crossing\n",
    "    chlzcd = dscs_coord[segm_uniqs[ch_leuq_zkmp]]\n",
    "    zdiff = chlzcd[:, 1, idim] - chlzcd[:, 0, idim]\n",
    "    lweight = ((chlzcd[:, 1, idim]-zkmp)/zdiff)[:, None]\n",
    "    xy_mn = (chlzcd[:, 1, px+py] * (1-lweight)) + (chlzcd[:, 0, px+py] * lweight)\n",
    "\n",
    "    chlzrad = dscs_radii[segm_uniqs[ch_leuq_zkmp]]\n",
    "    r_mn = (chlzrad[:, [1]] * (1-lweight)) + (chlzrad[:, [0]] * lweight)\n",
    "\n",
    "    return xy_mn, r_mn\n",
    "\n",
    "# fig, ax = plt.subplots(1,1)\n",
    "# fig.tight_layout()\n",
    "# ax.imshow(ds0 + 127*ds1c)\n",
    "\n",
    "# xy_mn.shape, xy_mno.shape"
   ]
  },
  {
   "cell_type": "code",
   "execution_count": 16,
   "metadata": {},
   "outputs": [],
   "source": [
    "## DATA READ - BASIC\n",
    "si = 12\n",
    "\n",
    "tdsp = r\"../Training_dataset/{si}/*.dcm\".format(si=si)\n",
    "\n",
    "ds_path_l = glob.glob(tdsp)\n",
    "ds_path_l = sorted(ds_path_l)\n",
    "\n",
    "ds_l = [pydicom.dcmread(ds_path) for ds_path in ds_path_l]\n",
    "ds_ = ds_l[0]\n",
    "dsa_dstsc = na(ds_.PixelSpacing) / na([0.416015625, 0.416015625])\n",
    "dsa_dstsh = (na(ds_.pixel_array.shape) * dsa_dstsc).astype(int)\n",
    "\n",
    "dsa = na([cv2.resize(ds.pixel_array, dsa_dstsh, interpolation=cv2.INTER_CUBIC) for ds in ds_l])\n",
    "dsi = dsa.astype(proc_dtype)\n",
    "dsv = (dsa*(256/dsa.max())).astype(np.uint8)\n"
   ]
  },
  {
   "cell_type": "code",
   "execution_count": 17,
   "metadata": {},
   "outputs": [],
   "source": [
    "tgot = r\"../Training_dataset/{si}/*.QVS\".format(si=si)\n",
    "kk = \"Outer Wall/Contour_Point\"\n",
    "\n",
    "dg_path_l = glob.glob(tgot)\n",
    "gotz_l = []\n",
    "cpal_l = []\n",
    "\n",
    "for gzi, dg_path in enumerate(dg_path_l):\n",
    "    with open(dg_path, \"r\", errors='ignore') as fh:\n",
    "        dg = \"\\n\".join(fh.readlines())\n",
    "\n",
    "    got_raw = xmltodict.parse(dg)[\"QVAS_Series\"][\"QVAS_Image\"]\n",
    "    cpal = [\n",
    "        {\n",
    "                f\"{czi}/{czc['ContourType']}/{pt}\": na([(float(po[\"@x\"]), float(po[\"@y\"])) for po in czc[pt][\"Point\"]]) \n",
    "            for czi, czc in enumerate(cz.get(\"QVAS_Contour\", []))\n",
    "            for pt in (\"Contour_Point\", \"Snake_Point\")\n",
    "        } for cz in got_raw\n",
    "    ]\n",
    "    gotz = [(zx, l, got_raw[zx][\"@ImageName\"]) \n",
    "        for zx, l in enumerate([\n",
    "            len(c.get((\n",
    "            [key for key in sorted(c.keys()) if kk in key] or [None])[0], [])) for c in cpal]\n",
    "    ) if l > 0\n",
    "    ]\n",
    "    gotz_l.append(gotz)\n",
    "    cpal_l.append(cpal)\n",
    "\n"
   ]
  },
  {
   "cell_type": "code",
   "execution_count": 19,
   "metadata": {},
   "outputs": [
    {
     "name": "stdout",
     "output_type": "stream",
     "text": [
      "(724, 2) (692, 2)\n",
      "724 692\n",
      "(170, 1) (300,); (30, 2) (314,); (56, 3) (374,); (26, 4) (314,); (36, 5) (277,); (32, 6) (187,); (20, 7) (130,); (21, 8) (103,); (20, 9) (74,); (7, 10) (57,); (14, 11) (47,); (6, 12) (41,); (7, 13) (37,); (7, 14) (30,); (5, 15) (26,); (3, 16) (21,); (6, 17) (10,); (1, 18) (6,); (2, 19) (7,); (0, 20) (4,); (1, 21) (5,); (0, 22) (3,); (2, 23) (2,); (0, 24) (1,); (1416,) (472,) (472, 2) (472,)\n"
     ]
    }
   ],
   "source": [
    "cached = True\n",
    "dcircsegm_path = \"./dcircsegmcache/tr_{si}.npy.gz\"\n",
    "\n",
    "if cached:\n",
    "    with gzip.open(dcircsegm_path.format(si=si), \"rb\") as f:\n",
    "        ds_circsegmout = np.load(f, allow_pickle=True)\n",
    "else:\n",
    "    dsa_amp_pl, dsa_arc_pl  = fcn_gradient(dsi)\n",
    "    ds_circsegmout          = fcn_circsegm(dsa_amp_pl, dsa_arc_pl)\n",
    "vertsegm_opt                = fcn_vertsegm(ds_circsegmout)\n",
    "(\n",
    "    segm2points, chain2sarg, chain2se2e, chain2ce2e, \n",
    "    dscs_coord, dscs_radii, \n",
    "    segm_uniqs, segm2points,\n",
    "    dscs_segme, dscs_junct, dscs_point,\n",
    ")                           = vertsegm_opt\n"
   ]
  },
  {
   "cell_type": "code",
   "execution_count": 32,
   "metadata": {},
   "outputs": [
    {
     "name": "stdout",
     "output_type": "stream",
     "text": [
      "     0 0 (136, 67, 'IMG-0012-00137')\n",
      "(2195,) (773,) (2,) 136\n",
      "(2, 2) (1, 2)\n",
      "     0 1 (141, 66, 'IMG-0012-00142')\n",
      "(2195,) (773,) (3,) 141\n",
      "(3, 2) (2, 2)\n",
      "     0 2 (146, 63, 'IMG-0012-00147')\n",
      "(2195,) (773,) (2,) 146\n",
      "(2, 2) (1, 2)\n",
      "     0 3 (151, 65, 'IMG-0012-00152')\n",
      "(2195,) (773,) (2,) 151\n",
      "(2, 2) (1, 2)\n",
      "     0 4 (156, 67, 'IMG-0012-00157')\n",
      "(2195,) (773,) (2,) 156\n",
      "(2, 2) (1, 2)\n",
      "     0 5 (161, 65, 'IMG-0012-00162')\n",
      "(2195,) (773,) (2,) 161\n",
      "(2, 2) (1, 2)\n",
      "     0 6 (166, 64, 'IMG-0012-00167')\n",
      "(2195,) (773,) (1,) 166\n",
      "(1, 2) (1, 2)\n",
      "     0 7 (171, 62, 'IMG-0012-00172')\n",
      "(2195,) (773,) (2,) 171\n",
      "(2, 2) (1, 2)\n",
      "     0 8 (176, 66, 'IMG-0012-00177')\n",
      "(2195,) (773,) (1,) 176\n",
      "(1, 2) (1, 2)\n",
      "     0 9 (181, 85, 'IMG-0012-00182')\n",
      "(2195,) (773,) (3,) 181\n",
      "(3, 2) (0, 2)\n",
      "     0 10 (186, 98, 'IMG-0012-00187')\n",
      "(2195,) (773,) (4,) 186\n",
      "(4, 2) (1, 2)\n",
      "     0 11 (191, 71, 'IMG-0012-00192')\n",
      "(2195,) (773,) (5,) 191\n",
      "(5, 2) (1, 2)\n",
      "     0 12 (196, 67, 'IMG-0012-00197')\n",
      "(2195,) (773,) (5,) 196\n",
      "(5, 2) (1, 2)\n",
      "     0 13 (201, 65, 'IMG-0012-00202')\n",
      "(2195,) (773,) (6,) 201\n",
      "(6, 2) (1, 2)\n",
      "     0 14 (206, 60, 'IMG-0012-00207')\n",
      "(2195,) (773,) (6,) 206\n",
      "(6, 2) (1, 2)\n",
      "     0 15 (211, 53, 'IMG-0012-00212')\n",
      "(2195,) (773,) (5,) 211\n",
      "(5, 2) (0, 2)\n",
      "     0 16 (216, 51, 'IMG-0012-00217')\n",
      "(2195,) (773,) (10,) 216\n",
      "(10, 2) (1, 2)\n",
      "     0 17 (221, 49, 'IMG-0012-00222')\n",
      "(2195,) (773,) (6,) 221\n",
      "(6, 2) (1, 2)\n",
      "     0 18 (226, 51, 'IMG-0012-00227')\n",
      "(2195,) (773,) (9,) 226\n",
      "(9, 2) (1, 2)\n",
      "     0 19 (231, 51, 'IMG-0012-00232')\n",
      "(2195,) (773,) (6,) 231\n",
      "(6, 2) (1, 2)\n",
      "     0 20 (236, 54, 'IMG-0012-00237')\n",
      "(2195,) (773,) (13,) 236\n",
      "(13, 2) (1, 2)\n",
      "     1 0 (123, 74, 'IMG-0012-00124')\n",
      "(2195,) (773,) (2,) 123\n",
      "(2, 2) (0, 2)\n",
      "     1 1 (128, 79, 'IMG-0012-00129')\n",
      "(2195,) (773,) (2,) 128\n",
      "(2, 2) (0, 2)\n",
      "     1 2 (133, 78, 'IMG-0012-00134')\n",
      "(2195,) (773,) (2,) 133\n",
      "(2, 2) (0, 2)\n",
      "     1 3 (138, 83, 'IMG-0012-00139')\n",
      "(2195,) (773,) (2,) 138\n",
      "(2, 2) (0, 2)\n",
      "     1 4 (143, 81, 'IMG-0012-00144')\n",
      "(2195,) (773,) (2,) 143\n",
      "(2, 2) (1, 2)\n",
      "     1 5 (148, 79, 'IMG-0012-00149')\n",
      "(2195,) (773,) (2,) 148\n",
      "(2, 2) (1, 2)\n",
      "     1 6 (153, 79, 'IMG-0012-00154')\n",
      "(2195,) (773,) (2,) 153\n",
      "(2, 2) (1, 2)\n",
      "     1 7 (158, 79, 'IMG-0012-00159')\n",
      "(2195,) (773,) (2,) 158\n",
      "(2, 2) (1, 2)\n",
      "     1 8 (163, 81, 'IMG-0012-00164')\n",
      "(2195,) (773,) (1,) 163\n",
      "(1, 2) (0, 2)\n",
      "     1 9 (168, 92, 'IMG-0012-00169')\n",
      "(2195,) (773,) (1,) 168\n",
      "(1, 2) (0, 2)\n",
      "     1 10 (173, 84, 'IMG-0012-00174')\n",
      "(2195,) (773,) (2,) 173\n",
      "(2, 2) (0, 2)\n",
      "     1 11 (178, 77, 'IMG-0012-00179')\n",
      "(2195,) (773,) (1,) 178\n",
      "(1, 2) (0, 2)\n",
      "     1 12 (183, 73, 'IMG-0012-00184')\n",
      "(2195,) (773,) (2,) 183\n",
      "(2, 2) (1, 2)\n",
      "     1 13 (188, 74, 'IMG-0012-00189')\n",
      "(2195,) (773,) (4,) 188\n",
      "(4, 2) (1, 2)\n",
      "     1 14 (193, 67, 'IMG-0012-00194')\n",
      "(2195,) (773,) (6,) 193\n",
      "(6, 2) (1, 2)\n",
      "     1 15 (198, 62, 'IMG-0012-00199')\n",
      "(2195,) (773,) (5,) 198\n",
      "(5, 2) (0, 2)\n",
      "     1 16 (203, 54, 'IMG-0012-00204')\n",
      "(2195,) (773,) (5,) 203\n",
      "(5, 2) (0, 2)\n",
      "     1 17 (208, 52, 'IMG-0012-00209')\n",
      "(2195,) (773,) (6,) 208\n",
      "(6, 2) (0, 2)\n",
      "     1 18 (213, 51, 'IMG-0012-00214')\n",
      "(2195,) (773,) (9,) 213\n",
      "(9, 2) (0, 2)\n",
      "     1 19 (218, 51, 'IMG-0012-00219')\n",
      "(2195,) (773,) (6,) 218\n",
      "(6, 2) (0, 2)\n",
      "     1 20 (223, 55, 'IMG-0012-00224')\n",
      "(2195,) (773,) (4,) 223\n",
      "(4, 2) (0, 2)\n"
     ]
    },
    {
     "data": {
      "text/plain": [
       "<matplotlib.image.AxesImage at 0x1cf5d5e14b0>"
      ]
     },
     "execution_count": 32,
     "metadata": {},
     "output_type": "execute_result"
    }
   ],
   "source": [
    "\n",
    "for gi, gotz in enumerate(gotz_l):\n",
    "    for gzi, gzs in enumerate(gotz):\n",
    "        print(\"    \", gi, gzi, gotz_l[gi][gzi])\n",
    "        gz = gotz_l[gi][gzi][0]\n",
    "\n",
    "        ds0 = dsv[gz]\n",
    "        ds2c = np.zeros(ds0.shape, dtype=np.uint8)\n",
    "        ds2f = np.zeros(ds0.shape, dtype=np.uint8)\n",
    "\n",
    "        cpal = cpal_l[gi]\n",
    "        # for nam in [key for key in cpal[gz].keys() if \"Lumen/Contour_Point\" in key]: # Lumen/Contour_Point Outer Wall/Contour_Point\n",
    "        nam = [key for key in cpal[gz].keys() if \"Lumen/Contour_Point\" in key][0]\n",
    "        ps = cpal[gz][nam] * dsa_dstsc[None] * (0.845) #- [391-276, 345-207]#* (275/392)#\n",
    "        cv2.polylines(ds2c, ps.astype(np.int32)[:, ::1][None], 1, 1)\n",
    "        cv2.fillPoly(ds2f, ps.astype(np.int32)[None], 1)\n",
    "\n",
    "        xy_mn, r_mn = ds1_get(gz, vertsegm_opt)\n",
    "        xy_mn_ba = ds2f[tuple(xh(xy_mn.astype(np.int32).T))] > 0\n",
    "        xy_mno = xh(xy_mn[xy_mn_ba].astype(np.int32))[:, ::-1]  # xy_mno = xh(xy_mn.astype(np.int32))[:, ::-1]\n",
    "        r_mno = xh(r_mn[xy_mn_ba].astype(np.int32))             # r_mno = xh(r_mn.astype(np.int32))\n",
    "        print(xy_mn.shape, xy_mno.shape)\n",
    "\n",
    "        ds1c = np.zeros(ds0.shape, dtype=np.uint8)\n",
    "        ds1f = np.zeros(ds0.shape, dtype=np.uint8)\n",
    "        for xy, r in zip(xy_mno, r_mno):\n",
    "            cv2.circle(ds1c, xy, 1*r.squeeze(), 1, 1)\n",
    "            cv2.circle(ds1f, xy, 1*r.squeeze(), 1, -1)\n",
    "\n",
    "fig, ax = plt.subplots(1,1)\n",
    "fig.tight_layout()\n",
    "ax.imshow(ds0 + 127*ds2c + 64*ds1c)"
   ]
  },
  {
   "cell_type": "code",
   "execution_count": 44,
   "metadata": {},
   "outputs": [
    {
     "name": "stdout",
     "output_type": "stream",
     "text": [
      "(2195,) (773,) (2,) 153\n",
      "(2, 2) (1, 2)\n",
      "317 91799555.0 0 128 360000\n",
      "<class 'numpy.float64'>\n",
      "i_accu 254.99964444444444\n",
      "i_sens 0.7123595505617978\n",
      "i_spec 1.0\n",
      "i_matt 0.844013363217757\n",
      "i_cohn 254.99992091434294\n",
      "i_f1sc 0.8320209973753281\n",
      "i_hdst 3.605551275463989\n",
      "i_ovlp [ 1. inf]\n"
     ]
    },
    {
     "name": "stderr",
     "output_type": "stream",
     "text": [
      "C:\\Users\\krism\\AppData\\Local\\Temp\\ipykernel_21388\\4294175494.py:51: RuntimeWarning: divide by zero encountered in divide\n",
      "  i_ovlp = (i_tprov + i_tpmov) / (i_tprov + i_tpmov + i_fnov, i_fpov)\n"
     ]
    },
    {
     "data": {
      "text/plain": [
       "array([[255, 255, 255, ..., 255, 255, 255],\n",
       "       [255, 255, 255, ..., 255, 255, 255],\n",
       "       [255, 255, 255, ..., 255, 255, 255],\n",
       "       ...,\n",
       "       [255, 255, 255, ..., 255, 255, 255],\n",
       "       [255, 255, 255, ..., 255, 255, 255],\n",
       "       [255, 255, 255, ..., 255, 255, 255]], dtype=uint8)"
      ]
     },
     "execution_count": 44,
     "metadata": {},
     "output_type": "execute_result"
    }
   ],
   "source": [
    "gi = 1\n",
    "gzi = 6\n",
    "gz = gotz_l[gi][gzi][0]\n",
    "\n",
    "ds0 = dsv[gz]\n",
    "ds2c = np.zeros(ds0.shape, dtype=np.uint8)\n",
    "ds2f = np.zeros(ds0.shape, dtype=np.uint8)\n",
    "\n",
    "cpal = cpal_l[gi]\n",
    "# for nam in [key for key in cpal[gz].keys() if \"Lumen/Contour_Point\" in key]: # Lumen/Contour_Point Outer Wall/Contour_Point\n",
    "nam = [key for key in cpal[gz].keys() if \"Lumen/Contour_Point\" in key][0]\n",
    "ps = cpal[gz][nam] * dsa_dstsc[None] * (0.845)\n",
    "cv2.polylines(ds2c, ps.astype(np.int32)[:, ::1][None], 1, 1)\n",
    "cv2.fillPoly(ds2f, ps.astype(np.int32)[None], 1)\n",
    "\n",
    "xy_mn, r_mn = ds1_get(gz, vertsegm_opt)\n",
    "xy_mn_ba = ds2f[tuple(xh(xy_mn.astype(np.int32).T))] > 0\n",
    "xy_mno = xh(xy_mn[xy_mn_ba].astype(np.int32))[:, ::-1]  # xy_mno = xh(xy_mn.astype(np.int32))[:, ::-1]\n",
    "r_mno = xh(r_mn[xy_mn_ba].astype(np.int32))             # r_mno = xh(r_mn.astype(np.int32))\n",
    "print(xy_mn.shape, xy_mno.shape)\n",
    "\n",
    "ds1c = np.zeros(ds0.shape, dtype=np.uint8)\n",
    "ds1f = np.zeros(ds0.shape, dtype=np.uint8)\n",
    "for xy, r in zip(xy_mno, r_mno):\n",
    "    cv2.circle(ds1c, xy, 1*r.squeeze(), 1, 1)\n",
    "    cv2.circle(ds1f, xy, 1*r.squeeze(), 1, -1)\n",
    "\n",
    "i_pe = (ds1f.sum()/ds0.size)*(ds2f.sum()/ds0.size)\n",
    "\n",
    "i_tp = ((ds1f & ds2f         )>0).astype(float).sum()        \n",
    "i_tn = (((~ds1f) & (~ds2f)   )>0).astype(float).sum()    \n",
    "i_fp = ((ds1f & (~ds2f)      )>0).astype(float).sum()\n",
    "i_fn = (((~ds1f) & ds2f      )>0).astype(float).sum()\n",
    "\n",
    "i_accu = (i_tp + i_tn) / ds0.size\n",
    "i_sens = (i_tp) / (i_tp + i_fn)\n",
    "i_spec = (i_tn) / (i_tn + i_fp)\n",
    "\n",
    "i_matt = ((i_tp*i_tn)-(i_fp*i_fn))/np.sqrt((i_tn+i_fn)*(i_fp+i_tp)*(i_tn+i_fp)*(i_fn+i_tp))\n",
    "i_cohn = (i_accu - i_pe)/(1-i_pe)\n",
    "i_f1sc = (2*i_tp)/(i_fp+i_fn+(2*i_tp))\n",
    "\n",
    "i_hdst = skimage.metrics.hausdorff_distance(ds1c, ds2c)\n",
    "\n",
    "i_moments = cv2.moments(ds1f)\n",
    "i_coid_xy = [int(i_moments[\"m10\"] / i_moments[\"m00\"]), int(i_moments[\"m01\"] / i_moments[\"m00\"])]\n",
    "i_tprov = ds1f[tuple(i_coid_xy)[::-1]] > 0\n",
    "i_fnov  = not i_tprov\n",
    "i_tpmov = ds2f[tuple(xy_mno[0])[::-1]] > 0 if xy_mno.__len__() > 0 else bool(0)\n",
    "i_fpov  = not i_tpmov\n",
    "i_ovlp = (i_tprov + i_tpmov) / (i_tprov + i_tpmov + i_fnov, i_fpov)\n",
    "\n",
    "print(i_tp , i_tn, i_fp, i_fn, ds0.size)\n",
    "print(type(i_tn))\n",
    "\n",
    "print(\"i_accu\", i_accu)\n",
    "print(\"i_sens\", i_sens)\n",
    "print(\"i_spec\", i_spec)\n",
    "\n",
    "print(\"i_matt\", i_matt)\n",
    "print(\"i_cohn\", i_cohn)\n",
    "print(\"i_f1sc\", i_f1sc)\n",
    "\n",
    "print(\"i_hdst\", i_hdst)\n",
    "print(\"i_ovlp\", i_ovlp)\n",
    "\n",
    "\n",
    "fig, ax = plt.subplots(1,1)\n",
    "fig.tight_layout()\n",
    "ax.imshow(ds0 + 127*ds2c + 64*ds1c)"
   ]
  },
  {
   "cell_type": "code",
   "execution_count": 65,
   "metadata": {},
   "outputs": [
    {
     "data": {
      "text/plain": [
       "(2,)"
      ]
     },
     "execution_count": 65,
     "metadata": {},
     "output_type": "execute_result"
    }
   ],
   "source": []
  },
  {
   "cell_type": "code",
   "execution_count": 77,
   "metadata": {},
   "outputs": [
    {
     "name": "stdout",
     "output_type": "stream",
     "text": [
      "TR = 3:  "
     ]
    },
    {
     "name": "stderr",
     "output_type": "stream",
     "text": [
      "patchify [PBX=57319]: 100%|██████████| 1/1 [00:01<00:00,  1.57s/it]\n",
      "linear kernel batchified seqencing [PBX=2184/57319]: 100%|██████████| 27/27 [00:08<00:00,  3.06it/s]\n",
      "unpatchify [PBX=57319]: 100%|██████████| 1/1 [00:03<00:00,  3.46s/it]\n",
      "unpatchify [PBX=57319]: 100%|██████████| 1/1 [00:03<00:00,  3.60s/it]\n",
      "patchify amp 0/3 [PBX=4]: 100%|██████████| 1/1 [00:04<00:00,  4.34s/it]\n",
      "patchify arc 0/3 [PBX=4]: 100%|██████████| 1/1 [00:03<00:00,  3.71s/it]\n",
      "circular segmentation batchified sequencing 0/3 [PBX=1/4]: 100%|██████████| 4/4 [06:43<00:00, 100.78s/it]\n",
      "output unpatchify 0/3 [PBX=4]: 100%|██████████| 1/1 [00:01<00:00,  1.29s/it]\n"
     ]
    },
    {
     "name": "stdout",
     "output_type": "stream",
     "text": [
      "success!\n",
      "TR = 4:  "
     ]
    },
    {
     "name": "stderr",
     "output_type": "stream",
     "text": [
      "patchify [PBX=57319]: 100%|██████████| 1/1 [00:01<00:00,  1.73s/it]\n",
      "linear kernel batchified seqencing [PBX=2184/57319]: 100%|██████████| 27/27 [00:08<00:00,  3.06it/s]\n",
      "unpatchify [PBX=57319]: 100%|██████████| 1/1 [00:03<00:00,  3.50s/it]\n",
      "unpatchify [PBX=57319]: 100%|██████████| 1/1 [00:03<00:00,  3.52s/it]\n",
      "patchify amp 0/3 [PBX=4]: 100%|██████████| 1/1 [00:04<00:00,  4.80s/it]\n",
      "patchify arc 0/3 [PBX=4]: 100%|██████████| 1/1 [00:03<00:00,  3.82s/it]\n",
      "circular segmentation batchified sequencing 0/3 [PBX=1/4]: 100%|██████████| 4/4 [06:43<00:00, 100.83s/it]\n",
      "output unpatchify 0/3 [PBX=4]: 100%|██████████| 1/1 [00:01<00:00,  1.63s/it]\n"
     ]
    },
    {
     "name": "stdout",
     "output_type": "stream",
     "text": [
      "success!\n",
      "TR = 5:  "
     ]
    },
    {
     "name": "stderr",
     "output_type": "stream",
     "text": [
      "patchify [PBX=57319]: 100%|██████████| 1/1 [00:01<00:00,  1.66s/it]\n",
      "linear kernel batchified seqencing [PBX=2184/57319]: 100%|██████████| 27/27 [00:08<00:00,  3.06it/s]\n",
      "unpatchify [PBX=57319]: 100%|██████████| 1/1 [00:03<00:00,  3.48s/it]\n",
      "unpatchify [PBX=57319]: 100%|██████████| 1/1 [00:03<00:00,  3.61s/it]\n",
      "patchify amp 0/3 [PBX=4]: 100%|██████████| 1/1 [00:04<00:00,  4.40s/it]\n",
      "patchify arc 0/3 [PBX=4]: 100%|██████████| 1/1 [00:03<00:00,  3.99s/it]\n",
      "circular segmentation batchified sequencing 0/3 [PBX=1/4]: 100%|██████████| 4/4 [06:42<00:00, 100.70s/it]\n",
      "output unpatchify 0/3 [PBX=4]: 100%|██████████| 1/1 [00:01<00:00,  1.33s/it]\n"
     ]
    },
    {
     "name": "stdout",
     "output_type": "stream",
     "text": [
      "success!\n",
      "TR = 6:  "
     ]
    },
    {
     "name": "stderr",
     "output_type": "stream",
     "text": [
      "patchify [PBX=57319]: 100%|██████████| 1/1 [00:01<00:00,  1.60s/it]\n",
      "linear kernel batchified seqencing [PBX=2184/57319]: 100%|██████████| 27/27 [00:08<00:00,  3.05it/s]\n",
      "unpatchify [PBX=57319]: 100%|██████████| 1/1 [00:03<00:00,  3.75s/it]\n",
      "unpatchify [PBX=57319]: 100%|██████████| 1/1 [00:03<00:00,  3.57s/it]\n",
      "patchify amp 0/3 [PBX=4]: 100%|██████████| 1/1 [00:04<00:00,  4.38s/it]\n",
      "patchify arc 0/3 [PBX=4]: 100%|██████████| 1/1 [00:04<00:00,  4.13s/it]\n",
      "circular segmentation batchified sequencing 0/3 [PBX=1/4]: 100%|██████████| 4/4 [06:42<00:00, 100.68s/it]\n",
      "output unpatchify 0/3 [PBX=4]: 100%|██████████| 1/1 [00:01<00:00,  1.43s/it]\n"
     ]
    },
    {
     "name": "stdout",
     "output_type": "stream",
     "text": [
      "success!\n",
      "TR = 7:  "
     ]
    },
    {
     "name": "stderr",
     "output_type": "stream",
     "text": [
      "patchify [PBX=57319]: 100%|██████████| 1/1 [00:01<00:00,  1.66s/it]\n",
      "linear kernel batchified seqencing [PBX=2184/57319]: 100%|██████████| 27/27 [00:08<00:00,  3.08it/s]\n",
      "unpatchify [PBX=57319]: 100%|██████████| 1/1 [00:03<00:00,  3.58s/it]\n",
      "unpatchify [PBX=57319]: 100%|██████████| 1/1 [00:03<00:00,  3.63s/it]\n",
      "patchify amp 0/3 [PBX=4]: 100%|██████████| 1/1 [00:04<00:00,  4.26s/it]\n",
      "patchify arc 0/3 [PBX=4]: 100%|██████████| 1/1 [00:04<00:00,  4.09s/it]\n",
      "circular segmentation batchified sequencing 0/3 [PBX=1/4]: 100%|██████████| 4/4 [06:43<00:00, 100.77s/it]\n",
      "output unpatchify 0/3 [PBX=4]: 100%|██████████| 1/1 [00:01<00:00,  1.35s/it]\n"
     ]
    },
    {
     "name": "stdout",
     "output_type": "stream",
     "text": [
      "success!\n",
      "TR = 8:  "
     ]
    },
    {
     "name": "stderr",
     "output_type": "stream",
     "text": [
      "patchify [PBX=74431]: 100%|██████████| 1/1 [00:02<00:00,  2.20s/it]\n",
      "linear kernel batchified seqencing [PBX=2184/74431]: 100%|██████████| 35/35 [00:11<00:00,  3.05it/s]\n",
      "unpatchify [PBX=74431]: 100%|██████████| 1/1 [00:04<00:00,  4.69s/it]\n",
      "unpatchify [PBX=74431]: 100%|██████████| 1/1 [00:04<00:00,  4.64s/it]\n",
      "patchify amp 0/3 [PBX=16]: 100%|██████████| 1/1 [00:22<00:00, 22.86s/it]\n",
      "patchify arc 0/3 [PBX=16]: 100%|██████████| 1/1 [00:19<00:00, 19.34s/it]\n",
      "circular segmentation batchified sequencing 0/3 [PBX=1/16]: 100%|██████████| 16/16 [26:54<00:00, 100.90s/it]\n",
      "output unpatchify 0/3 [PBX=16]: 100%|██████████| 1/1 [00:07<00:00,  7.20s/it]\n"
     ]
    },
    {
     "name": "stdout",
     "output_type": "stream",
     "text": [
      "success!\n",
      "TR = 9:  "
     ]
    },
    {
     "name": "stderr",
     "output_type": "stream",
     "text": [
      "patchify [PBX=57319]: 100%|██████████| 1/1 [00:01<00:00,  1.67s/it]\n",
      "linear kernel batchified seqencing [PBX=2184/57319]: 100%|██████████| 27/27 [00:08<00:00,  3.04it/s]\n",
      "unpatchify [PBX=57319]: 100%|██████████| 1/1 [00:03<00:00,  3.64s/it]\n",
      "unpatchify [PBX=57319]: 100%|██████████| 1/1 [00:03<00:00,  3.66s/it]\n",
      "patchify amp 0/3 [PBX=4]: 100%|██████████| 1/1 [00:04<00:00,  4.27s/it]\n",
      "patchify arc 0/3 [PBX=4]: 100%|██████████| 1/1 [00:03<00:00,  3.97s/it]\n",
      "circular segmentation batchified sequencing 0/3 [PBX=1/4]: 100%|██████████| 4/4 [06:43<00:00, 100.81s/it]\n",
      "output unpatchify 0/3 [PBX=4]: 100%|██████████| 1/1 [00:01<00:00,  1.39s/it]\n"
     ]
    },
    {
     "name": "stdout",
     "output_type": "stream",
     "text": [
      "success!\n",
      "TR = 10:  "
     ]
    },
    {
     "name": "stderr",
     "output_type": "stream",
     "text": [
      "patchify [PBX=57319]: 100%|██████████| 1/1 [00:01<00:00,  1.64s/it]\n",
      "linear kernel batchified seqencing [PBX=2184/57319]: 100%|██████████| 27/27 [00:08<00:00,  3.03it/s]\n",
      "unpatchify [PBX=57319]: 100%|██████████| 1/1 [00:03<00:00,  3.52s/it]\n",
      "unpatchify [PBX=57319]: 100%|██████████| 1/1 [00:03<00:00,  3.54s/it]\n",
      "patchify amp 0/3 [PBX=4]: 100%|██████████| 1/1 [00:04<00:00,  4.30s/it]\n",
      "patchify arc 0/3 [PBX=4]: 100%|██████████| 1/1 [00:03<00:00,  3.93s/it]\n",
      "circular segmentation batchified sequencing 0/3 [PBX=1/4]: 100%|██████████| 4/4 [06:43<00:00, 100.76s/it]\n",
      "output unpatchify 0/3 [PBX=4]: 100%|██████████| 1/1 [00:01<00:00,  1.32s/it]\n"
     ]
    },
    {
     "name": "stdout",
     "output_type": "stream",
     "text": [
      "success!\n",
      "TR = 11:  "
     ]
    },
    {
     "name": "stderr",
     "output_type": "stream",
     "text": [
      "patchify [PBX=57319]: 100%|██████████| 1/1 [00:01<00:00,  1.73s/it]\n",
      "linear kernel batchified seqencing [PBX=2184/57319]: 100%|██████████| 27/27 [00:08<00:00,  3.04it/s]\n",
      "unpatchify [PBX=57319]: 100%|██████████| 1/1 [00:03<00:00,  3.62s/it]\n",
      "unpatchify [PBX=57319]: 100%|██████████| 1/1 [00:03<00:00,  3.59s/it]\n",
      "patchify amp 0/3 [PBX=4]: 100%|██████████| 1/1 [00:04<00:00,  4.27s/it]\n",
      "patchify arc 0/3 [PBX=4]: 100%|██████████| 1/1 [00:04<00:00,  4.28s/it]\n",
      "circular segmentation batchified sequencing 0/3 [PBX=1/4]: 100%|██████████| 4/4 [06:42<00:00, 100.70s/it]\n",
      "output unpatchify 0/3 [PBX=4]: 100%|██████████| 1/1 [00:01<00:00,  1.39s/it]\n"
     ]
    },
    {
     "name": "stdout",
     "output_type": "stream",
     "text": [
      "success!\n",
      "TR = 12:  "
     ]
    },
    {
     "name": "stderr",
     "output_type": "stream",
     "text": [
      "patchify [PBX=57319]: 100%|██████████| 1/1 [00:01<00:00,  1.63s/it]\n",
      "linear kernel batchified seqencing [PBX=2184/57319]: 100%|██████████| 27/27 [00:08<00:00,  3.05it/s]\n",
      "unpatchify [PBX=57319]: 100%|██████████| 1/1 [00:03<00:00,  3.46s/it]\n",
      "unpatchify [PBX=57319]: 100%|██████████| 1/1 [00:03<00:00,  3.50s/it]\n",
      "patchify amp 0/3 [PBX=4]: 100%|██████████| 1/1 [00:04<00:00,  4.30s/it]\n",
      "patchify arc 0/3 [PBX=4]: 100%|██████████| 1/1 [00:04<00:00,  4.03s/it]\n",
      "circular segmentation batchified sequencing 0/3 [PBX=1/4]: 100%|██████████| 4/4 [06:42<00:00, 100.74s/it]\n",
      "output unpatchify 0/3 [PBX=4]: 100%|██████████| 1/1 [00:01<00:00,  1.34s/it]\n"
     ]
    },
    {
     "name": "stdout",
     "output_type": "stream",
     "text": [
      "success!\n",
      "TR = 13:  "
     ]
    },
    {
     "name": "stderr",
     "output_type": "stream",
     "text": [
      "patchify [PBX=57319]: 100%|██████████| 1/1 [00:01<00:00,  1.66s/it]\n",
      "linear kernel batchified seqencing [PBX=2184/57319]: 100%|██████████| 27/27 [00:08<00:00,  3.06it/s]\n",
      "unpatchify [PBX=57319]: 100%|██████████| 1/1 [00:03<00:00,  3.66s/it]\n",
      "unpatchify [PBX=57319]: 100%|██████████| 1/1 [00:03<00:00,  3.73s/it]\n",
      "patchify amp 0/3 [PBX=4]: 100%|██████████| 1/1 [00:04<00:00,  4.48s/it]\n",
      "patchify arc 0/3 [PBX=4]: 100%|██████████| 1/1 [00:04<00:00,  4.15s/it]\n",
      "circular segmentation batchified sequencing 0/3 [PBX=1/4]: 100%|██████████| 4/4 [06:42<00:00, 100.72s/it]\n",
      "output unpatchify 0/3 [PBX=4]: 100%|██████████| 1/1 [00:01<00:00,  1.30s/it]\n"
     ]
    },
    {
     "name": "stdout",
     "output_type": "stream",
     "text": [
      "success!\n",
      "TR = 14:  "
     ]
    },
    {
     "name": "stderr",
     "output_type": "stream",
     "text": [
      "patchify [PBX=57319]: 100%|██████████| 1/1 [00:01<00:00,  1.59s/it]\n",
      "linear kernel batchified seqencing [PBX=2184/57319]: 100%|██████████| 27/27 [00:08<00:00,  3.04it/s]\n",
      "unpatchify [PBX=57319]: 100%|██████████| 1/1 [00:03<00:00,  3.56s/it]\n",
      "unpatchify [PBX=57319]: 100%|██████████| 1/1 [00:03<00:00,  3.61s/it]\n",
      "patchify amp 0/3 [PBX=4]: 100%|██████████| 1/1 [00:04<00:00,  4.21s/it]\n",
      "patchify arc 0/3 [PBX=4]: 100%|██████████| 1/1 [00:04<00:00,  4.23s/it]\n",
      "circular segmentation batchified sequencing 0/3 [PBX=1/4]: 100%|██████████| 4/4 [06:42<00:00, 100.68s/it]\n",
      "output unpatchify 0/3 [PBX=4]: 100%|██████████| 1/1 [00:01<00:00,  1.37s/it]\n"
     ]
    },
    {
     "name": "stdout",
     "output_type": "stream",
     "text": [
      "success!\n",
      "TR = 15:  "
     ]
    },
    {
     "name": "stderr",
     "output_type": "stream",
     "text": [
      "patchify [PBX=57319]: 100%|██████████| 1/1 [00:01<00:00,  1.75s/it]\n",
      "linear kernel batchified seqencing [PBX=2184/57319]: 100%|██████████| 27/27 [00:08<00:00,  3.03it/s]\n",
      "unpatchify [PBX=57319]: 100%|██████████| 1/1 [00:03<00:00,  3.48s/it]\n",
      "unpatchify [PBX=57319]: 100%|██████████| 1/1 [00:03<00:00,  3.47s/it]\n",
      "patchify amp 0/3 [PBX=4]: 100%|██████████| 1/1 [00:04<00:00,  4.23s/it]\n",
      "patchify arc 0/3 [PBX=4]: 100%|██████████| 1/1 [00:04<00:00,  4.04s/it]\n",
      "circular segmentation batchified sequencing 0/3 [PBX=1/4]: 100%|██████████| 4/4 [06:43<00:00, 100.87s/it]\n",
      "output unpatchify 0/3 [PBX=4]: 100%|██████████| 1/1 [00:01<00:00,  1.33s/it]\n"
     ]
    },
    {
     "name": "stdout",
     "output_type": "stream",
     "text": [
      "success!\n",
      "TR = 16:  list index out of range\n",
      "TR = 17:  "
     ]
    },
    {
     "name": "stderr",
     "output_type": "stream",
     "text": [
      "patchify [PBX=57319]: 100%|██████████| 1/1 [00:01<00:00,  1.74s/it]\n",
      "linear kernel batchified seqencing [PBX=2184/57319]: 100%|██████████| 27/27 [00:08<00:00,  3.02it/s]\n",
      "unpatchify [PBX=57319]: 100%|██████████| 1/1 [00:03<00:00,  3.51s/it]\n",
      "unpatchify [PBX=57319]: 100%|██████████| 1/1 [00:03<00:00,  3.53s/it]\n",
      "patchify amp 0/3 [PBX=4]: 100%|██████████| 1/1 [00:04<00:00,  4.44s/it]\n",
      "patchify arc 0/3 [PBX=4]: 100%|██████████| 1/1 [00:03<00:00,  3.98s/it]\n",
      "circular segmentation batchified sequencing 0/3 [PBX=1/4]: 100%|██████████| 4/4 [06:43<00:00, 100.83s/it]\n",
      "output unpatchify 0/3 [PBX=4]: 100%|██████████| 1/1 [00:01<00:00,  1.33s/it]\n"
     ]
    },
    {
     "name": "stdout",
     "output_type": "stream",
     "text": [
      "success!\n",
      "TR = 18:  "
     ]
    },
    {
     "name": "stderr",
     "output_type": "stream",
     "text": [
      "patchify [PBX=57319]: 100%|██████████| 1/1 [00:01<00:00,  1.65s/it]\n",
      "linear kernel batchified seqencing [PBX=2184/57319]: 100%|██████████| 27/27 [00:08<00:00,  3.03it/s]\n",
      "unpatchify [PBX=57319]: 100%|██████████| 1/1 [00:03<00:00,  3.59s/it]\n",
      "unpatchify [PBX=57319]: 100%|██████████| 1/1 [00:03<00:00,  3.60s/it]\n",
      "patchify amp 0/3 [PBX=4]: 100%|██████████| 1/1 [00:04<00:00,  4.21s/it]\n",
      "patchify arc 0/3 [PBX=4]: 100%|██████████| 1/1 [00:03<00:00,  3.98s/it]\n",
      "circular segmentation batchified sequencing 0/3 [PBX=1/4]: 100%|██████████| 4/4 [06:42<00:00, 100.74s/it]\n",
      "output unpatchify 0/3 [PBX=4]: 100%|██████████| 1/1 [00:01<00:00,  1.35s/it]\n"
     ]
    },
    {
     "name": "stdout",
     "output_type": "stream",
     "text": [
      "success!\n",
      "TR = 19:  "
     ]
    },
    {
     "name": "stderr",
     "output_type": "stream",
     "text": [
      "patchify [PBX=57319]: 100%|██████████| 1/1 [00:01<00:00,  1.68s/it]\n",
      "linear kernel batchified seqencing [PBX=2184/57319]: 100%|██████████| 27/27 [00:08<00:00,  3.07it/s]\n",
      "unpatchify [PBX=57319]: 100%|██████████| 1/1 [00:03<00:00,  3.51s/it]\n",
      "unpatchify [PBX=57319]: 100%|██████████| 1/1 [00:03<00:00,  3.67s/it]\n",
      "patchify amp 0/3 [PBX=4]: 100%|██████████| 1/1 [00:04<00:00,  4.21s/it]\n",
      "patchify arc 0/3 [PBX=4]: 100%|██████████| 1/1 [00:04<00:00,  4.09s/it]\n",
      "circular segmentation batchified sequencing 0/3 [PBX=1/4]: 100%|██████████| 4/4 [06:42<00:00, 100.71s/it]\n",
      "output unpatchify 0/3 [PBX=4]: 100%|██████████| 1/1 [00:01<00:00,  1.37s/it]\n"
     ]
    },
    {
     "name": "stdout",
     "output_type": "stream",
     "text": [
      "success!\n",
      "TR = 20:  "
     ]
    },
    {
     "name": "stderr",
     "output_type": "stream",
     "text": [
      "patchify [PBX=57319]: 100%|██████████| 1/1 [00:01<00:00,  1.61s/it]\n",
      "linear kernel batchified seqencing [PBX=2184/57319]: 100%|██████████| 27/27 [00:08<00:00,  3.06it/s]\n",
      "unpatchify [PBX=57319]: 100%|██████████| 1/1 [00:03<00:00,  3.66s/it]\n",
      "unpatchify [PBX=57319]: 100%|██████████| 1/1 [00:03<00:00,  3.55s/it]\n",
      "patchify amp 0/3 [PBX=4]: 100%|██████████| 1/1 [00:04<00:00,  4.25s/it]\n",
      "patchify arc 0/3 [PBX=4]: 100%|██████████| 1/1 [00:04<00:00,  4.19s/it]\n",
      "circular segmentation batchified sequencing 0/3 [PBX=1/4]: 100%|██████████| 4/4 [06:42<00:00, 100.72s/it]\n",
      "output unpatchify 0/3 [PBX=4]: 100%|██████████| 1/1 [00:01<00:00,  1.35s/it]\n"
     ]
    },
    {
     "name": "stdout",
     "output_type": "stream",
     "text": [
      "success!\n",
      "TR = 21:  "
     ]
    },
    {
     "name": "stderr",
     "output_type": "stream",
     "text": [
      "patchify [PBX=57319]: 100%|██████████| 1/1 [00:01<00:00,  1.70s/it]\n",
      "linear kernel batchified seqencing [PBX=2184/57319]: 100%|██████████| 27/27 [00:08<00:00,  3.03it/s]\n",
      "unpatchify [PBX=57319]: 100%|██████████| 1/1 [00:03<00:00,  3.58s/it]\n",
      "unpatchify [PBX=57319]: 100%|██████████| 1/1 [00:03<00:00,  3.60s/it]\n",
      "patchify amp 0/3 [PBX=4]: 100%|██████████| 1/1 [00:04<00:00,  4.35s/it]\n",
      "patchify arc 0/3 [PBX=4]: 100%|██████████| 1/1 [00:03<00:00,  3.86s/it]\n",
      "circular segmentation batchified sequencing 0/3 [PBX=1/4]: 100%|██████████| 4/4 [06:43<00:00, 100.82s/it]\n",
      "output unpatchify 0/3 [PBX=4]: 100%|██████████| 1/1 [00:01<00:00,  1.30s/it]\n"
     ]
    },
    {
     "name": "stdout",
     "output_type": "stream",
     "text": [
      "success!\n",
      "TR = 22:  "
     ]
    },
    {
     "name": "stderr",
     "output_type": "stream",
     "text": [
      "patchify [PBX=57319]: 100%|██████████| 1/1 [00:01<00:00,  1.60s/it]\n",
      "linear kernel batchified seqencing [PBX=2184/57319]: 100%|██████████| 27/27 [00:08<00:00,  3.08it/s]\n",
      "unpatchify [PBX=57319]: 100%|██████████| 1/1 [00:03<00:00,  3.58s/it]\n",
      "unpatchify [PBX=57319]: 100%|██████████| 1/1 [00:03<00:00,  3.50s/it]\n",
      "patchify amp 0/3 [PBX=4]: 100%|██████████| 1/1 [00:04<00:00,  4.26s/it]\n",
      "patchify arc 0/3 [PBX=4]: 100%|██████████| 1/1 [00:03<00:00,  3.98s/it]\n",
      "circular segmentation batchified sequencing 0/3 [PBX=1/4]: 100%|██████████| 4/4 [06:43<00:00, 100.79s/it]\n",
      "output unpatchify 0/3 [PBX=4]: 100%|██████████| 1/1 [00:01<00:00,  1.43s/it]\n"
     ]
    },
    {
     "name": "stdout",
     "output_type": "stream",
     "text": [
      "success!\n",
      "TR = 23:  "
     ]
    },
    {
     "name": "stderr",
     "output_type": "stream",
     "text": [
      "patchify [PBX=57319]: 100%|██████████| 1/1 [00:01<00:00,  1.60s/it]\n",
      "linear kernel batchified seqencing [PBX=2184/57319]: 100%|██████████| 27/27 [00:08<00:00,  3.07it/s]\n",
      "unpatchify [PBX=57319]: 100%|██████████| 1/1 [00:03<00:00,  3.70s/it]\n",
      "unpatchify [PBX=57319]: 100%|██████████| 1/1 [00:03<00:00,  3.75s/it]\n",
      "patchify amp 0/3 [PBX=4]: 100%|██████████| 1/1 [00:04<00:00,  4.27s/it]\n",
      "patchify arc 0/3 [PBX=4]: 100%|██████████| 1/1 [00:04<00:00,  4.25s/it]\n",
      "circular segmentation batchified sequencing 0/3 [PBX=1/4]: 100%|██████████| 4/4 [06:43<00:00, 100.83s/it]\n",
      "output unpatchify 0/3 [PBX=4]: 100%|██████████| 1/1 [00:01<00:00,  1.46s/it]\n"
     ]
    },
    {
     "name": "stdout",
     "output_type": "stream",
     "text": [
      "success!\n",
      "TR = 24:  "
     ]
    },
    {
     "name": "stderr",
     "output_type": "stream",
     "text": [
      "patchify [PBX=57319]: 100%|██████████| 1/1 [00:01<00:00,  1.65s/it]\n",
      "linear kernel batchified seqencing [PBX=2184/57319]: 100%|██████████| 27/27 [00:08<00:00,  3.04it/s]\n",
      "unpatchify [PBX=57319]: 100%|██████████| 1/1 [00:03<00:00,  3.59s/it]\n",
      "unpatchify [PBX=57319]: 100%|██████████| 1/1 [00:03<00:00,  3.63s/it]\n",
      "patchify amp 0/3 [PBX=4]: 100%|██████████| 1/1 [00:04<00:00,  4.30s/it]\n",
      "patchify arc 0/3 [PBX=4]: 100%|██████████| 1/1 [00:04<00:00,  4.05s/it]\n",
      "circular segmentation batchified sequencing 0/3 [PBX=1/4]: 100%|██████████| 4/4 [06:43<00:00, 100.88s/it]\n",
      "output unpatchify 0/3 [PBX=4]: 100%|██████████| 1/1 [00:01<00:00,  1.37s/it]\n"
     ]
    },
    {
     "name": "stdout",
     "output_type": "stream",
     "text": [
      "success!\n",
      "TR = 25:  "
     ]
    },
    {
     "name": "stderr",
     "output_type": "stream",
     "text": [
      "patchify [PBX=57319]: 100%|██████████| 1/1 [00:01<00:00,  1.72s/it]\n",
      "linear kernel batchified seqencing [PBX=2184/57319]: 100%|██████████| 27/27 [00:08<00:00,  3.07it/s]\n",
      "unpatchify [PBX=57319]: 100%|██████████| 1/1 [00:03<00:00,  3.51s/it]\n",
      "unpatchify [PBX=57319]: 100%|██████████| 1/1 [00:03<00:00,  3.63s/it]\n",
      "patchify amp 0/3 [PBX=4]: 100%|██████████| 1/1 [00:04<00:00,  4.31s/it]\n",
      "patchify arc 0/3 [PBX=4]: 100%|██████████| 1/1 [00:04<00:00,  4.08s/it]\n",
      "circular segmentation batchified sequencing 0/3 [PBX=1/4]: 100%|██████████| 4/4 [06:42<00:00, 100.71s/it]\n",
      "output unpatchify 0/3 [PBX=4]: 100%|██████████| 1/1 [00:01<00:00,  1.33s/it]\n"
     ]
    },
    {
     "name": "stdout",
     "output_type": "stream",
     "text": [
      "success!\n",
      "TR = 26:  "
     ]
    },
    {
     "name": "stderr",
     "output_type": "stream",
     "text": [
      "patchify [PBX=57319]: 100%|██████████| 1/1 [00:01<00:00,  1.65s/it]\n",
      "linear kernel batchified seqencing [PBX=2184/57319]: 100%|██████████| 27/27 [00:08<00:00,  3.02it/s]\n",
      "unpatchify [PBX=57319]: 100%|██████████| 1/1 [00:03<00:00,  3.55s/it]\n",
      "unpatchify [PBX=57319]: 100%|██████████| 1/1 [00:03<00:00,  3.53s/it]\n",
      "patchify amp 0/3 [PBX=4]: 100%|██████████| 1/1 [00:04<00:00,  4.33s/it]\n",
      "patchify arc 0/3 [PBX=4]: 100%|██████████| 1/1 [00:04<00:00,  4.10s/it]\n",
      "circular segmentation batchified sequencing 0/3 [PBX=1/4]: 100%|██████████| 4/4 [06:44<00:00, 101.05s/it]\n",
      "output unpatchify 0/3 [PBX=4]: 100%|██████████| 1/1 [00:01<00:00,  1.62s/it]\n"
     ]
    },
    {
     "name": "stdout",
     "output_type": "stream",
     "text": [
      "success!\n",
      "TR = 27:  "
     ]
    },
    {
     "name": "stderr",
     "output_type": "stream",
     "text": [
      "patchify [PBX=57319]: 100%|██████████| 1/1 [00:02<00:00,  2.44s/it]\n",
      "linear kernel batchified seqencing [PBX=2184/57319]: 100%|██████████| 27/27 [00:09<00:00,  2.95it/s]\n",
      "unpatchify [PBX=57319]: 100%|██████████| 1/1 [00:04<00:00,  4.81s/it]\n",
      "unpatchify [PBX=57319]: 100%|██████████| 1/1 [00:04<00:00,  4.16s/it]\n",
      "patchify amp 0/3 [PBX=4]: 100%|██████████| 1/1 [00:04<00:00,  4.99s/it]\n",
      "patchify arc 0/3 [PBX=4]: 100%|██████████| 1/1 [00:05<00:00,  5.16s/it]\n",
      "circular segmentation batchified sequencing 0/3 [PBX=1/4]: 100%|██████████| 4/4 [06:45<00:00, 101.34s/it]\n",
      "output unpatchify 0/3 [PBX=4]: 100%|██████████| 1/1 [00:01<00:00,  1.67s/it]\n"
     ]
    },
    {
     "name": "stdout",
     "output_type": "stream",
     "text": [
      "success!\n",
      "TR = 28:  "
     ]
    },
    {
     "name": "stderr",
     "output_type": "stream",
     "text": [
      "patchify [PBX=57319]: 100%|██████████| 1/1 [00:02<00:00,  2.44s/it]\n",
      "linear kernel batchified seqencing [PBX=2184/57319]: 100%|██████████| 27/27 [00:09<00:00,  2.94it/s]\n",
      "unpatchify [PBX=57319]: 100%|██████████| 1/1 [00:04<00:00,  4.87s/it]\n",
      "unpatchify [PBX=57319]: 100%|██████████| 1/1 [00:04<00:00,  4.13s/it]\n",
      "patchify amp 0/3 [PBX=4]: 100%|██████████| 1/1 [00:04<00:00,  4.89s/it]\n",
      "patchify arc 0/3 [PBX=4]: 100%|██████████| 1/1 [00:04<00:00,  4.99s/it]\n",
      "circular segmentation batchified sequencing 0/3 [PBX=1/4]: 100%|██████████| 4/4 [06:44<00:00, 101.25s/it]\n",
      "output unpatchify 0/3 [PBX=4]: 100%|██████████| 1/1 [00:01<00:00,  1.51s/it]\n"
     ]
    },
    {
     "name": "stdout",
     "output_type": "stream",
     "text": [
      "success!\n",
      "TR = 29:  "
     ]
    },
    {
     "name": "stderr",
     "output_type": "stream",
     "text": [
      "patchify [PBX=57319]: 100%|██████████| 1/1 [00:02<00:00,  2.35s/it]\n",
      "linear kernel batchified seqencing [PBX=2184/57319]: 100%|██████████| 27/27 [00:09<00:00,  2.95it/s]\n",
      "unpatchify [PBX=57319]: 100%|██████████| 1/1 [00:04<00:00,  4.62s/it]\n",
      "unpatchify [PBX=57319]: 100%|██████████| 1/1 [00:04<00:00,  4.62s/it]\n",
      "patchify amp 0/3 [PBX=16]: 100%|██████████| 1/1 [00:30<00:00, 30.37s/it]\n",
      "patchify arc 0/3 [PBX=16]: 100%|██████████| 1/1 [00:20<00:00, 20.77s/it]\n",
      "circular segmentation batchified sequencing 0/3 [PBX=1/16]: 100%|██████████| 16/16 [26:58<00:00, 101.13s/it]\n",
      "output unpatchify 0/3 [PBX=16]: 100%|██████████| 1/1 [00:05<00:00,  5.68s/it]\n"
     ]
    },
    {
     "name": "stdout",
     "output_type": "stream",
     "text": [
      "success!\n",
      "TR = 30:  "
     ]
    },
    {
     "name": "stderr",
     "output_type": "stream",
     "text": [
      "patchify [PBX=57319]: 100%|██████████| 1/1 [00:01<00:00,  1.49s/it]\n",
      "linear kernel batchified seqencing [PBX=2184/57319]: 100%|██████████| 27/27 [00:08<00:00,  3.08it/s]\n",
      "unpatchify [PBX=57319]: 100%|██████████| 1/1 [00:03<00:00,  3.23s/it]\n",
      "unpatchify [PBX=57319]: 100%|██████████| 1/1 [00:03<00:00,  3.28s/it]\n",
      "patchify amp 0/3 [PBX=4]: 100%|██████████| 1/1 [00:03<00:00,  3.78s/it]\n",
      "patchify arc 0/3 [PBX=4]: 100%|██████████| 1/1 [00:03<00:00,  3.62s/it]\n",
      "circular segmentation batchified sequencing 0/3 [PBX=1/4]: 100%|██████████| 4/4 [06:41<00:00, 100.41s/it]\n",
      "output unpatchify 0/3 [PBX=4]: 100%|██████████| 1/1 [00:01<00:00,  1.22s/it]\n"
     ]
    },
    {
     "name": "stdout",
     "output_type": "stream",
     "text": [
      "success!\n",
      "TR = 31:  "
     ]
    },
    {
     "name": "stderr",
     "output_type": "stream",
     "text": [
      "patchify [PBX=57319]: 100%|██████████| 1/1 [00:01<00:00,  1.48s/it]\n",
      "linear kernel batchified seqencing [PBX=2184/57319]: 100%|██████████| 27/27 [00:08<00:00,  3.14it/s]\n",
      "unpatchify [PBX=57319]: 100%|██████████| 1/1 [00:03<00:00,  3.31s/it]\n",
      "unpatchify [PBX=57319]: 100%|██████████| 1/1 [00:03<00:00,  3.30s/it]\n",
      "patchify amp 0/3 [PBX=4]: 100%|██████████| 1/1 [00:03<00:00,  3.92s/it]\n",
      "patchify arc 0/3 [PBX=4]: 100%|██████████| 1/1 [00:03<00:00,  3.76s/it]\n",
      "circular segmentation batchified sequencing 0/3 [PBX=1/4]: 100%|██████████| 4/4 [06:41<00:00, 100.37s/it]\n",
      "output unpatchify 0/3 [PBX=4]: 100%|██████████| 1/1 [00:01<00:00,  1.26s/it]\n"
     ]
    },
    {
     "name": "stdout",
     "output_type": "stream",
     "text": [
      "success!\n",
      "TR = 32:  "
     ]
    },
    {
     "name": "stderr",
     "output_type": "stream",
     "text": [
      "patchify [PBX=57319]: 100%|██████████| 1/1 [00:01<00:00,  1.52s/it]\n",
      "linear kernel batchified seqencing [PBX=2184/57319]: 100%|██████████| 27/27 [00:08<00:00,  3.13it/s]\n",
      "unpatchify [PBX=57319]: 100%|██████████| 1/1 [00:03<00:00,  3.25s/it]\n",
      "unpatchify [PBX=57319]: 100%|██████████| 1/1 [00:03<00:00,  3.42s/it]\n",
      "patchify amp 0/3 [PBX=4]: 100%|██████████| 1/1 [00:04<00:00,  4.13s/it]\n",
      "patchify arc 0/3 [PBX=4]: 100%|██████████| 1/1 [00:03<00:00,  3.59s/it]\n",
      "circular segmentation batchified sequencing 0/3 [PBX=1/4]: 100%|██████████| 4/4 [06:41<00:00, 100.35s/it]\n",
      "output unpatchify 0/3 [PBX=4]: 100%|██████████| 1/1 [00:01<00:00,  1.32s/it]\n"
     ]
    },
    {
     "name": "stdout",
     "output_type": "stream",
     "text": [
      "success!\n",
      "TR = 33:  "
     ]
    },
    {
     "name": "stderr",
     "output_type": "stream",
     "text": [
      "patchify [PBX=57319]: 100%|██████████| 1/1 [00:01<00:00,  1.76s/it]\n",
      "linear kernel batchified seqencing [PBX=2184/57319]: 100%|██████████| 27/27 [00:08<00:00,  3.08it/s]\n",
      "unpatchify [PBX=57319]: 100%|██████████| 1/1 [00:03<00:00,  3.19s/it]\n",
      "unpatchify [PBX=57319]: 100%|██████████| 1/1 [00:03<00:00,  3.26s/it]\n",
      "patchify amp 0/3 [PBX=4]: 100%|██████████| 1/1 [00:03<00:00,  3.89s/it]\n",
      "patchify arc 0/3 [PBX=4]: 100%|██████████| 1/1 [00:03<00:00,  3.69s/it]\n",
      "circular segmentation batchified sequencing 0/3 [PBX=1/4]: 100%|██████████| 4/4 [06:41<00:00, 100.35s/it]\n",
      "output unpatchify 0/3 [PBX=4]: 100%|██████████| 1/1 [00:01<00:00,  1.24s/it]\n"
     ]
    },
    {
     "name": "stdout",
     "output_type": "stream",
     "text": [
      "success!\n",
      "TR = 34:  "
     ]
    },
    {
     "name": "stderr",
     "output_type": "stream",
     "text": [
      "patchify [PBX=57319]: 100%|██████████| 1/1 [00:01<00:00,  1.51s/it]\n",
      "linear kernel batchified seqencing [PBX=2184/57319]: 100%|██████████| 27/27 [00:08<00:00,  3.10it/s]\n",
      "unpatchify [PBX=57319]: 100%|██████████| 1/1 [00:03<00:00,  3.26s/it]\n",
      "unpatchify [PBX=57319]: 100%|██████████| 1/1 [00:03<00:00,  3.17s/it]\n",
      "patchify amp 0/3 [PBX=4]: 100%|██████████| 1/1 [00:03<00:00,  3.88s/it]\n",
      "patchify arc 0/3 [PBX=4]: 100%|██████████| 1/1 [00:03<00:00,  3.87s/it]\n",
      "circular segmentation batchified sequencing 0/3 [PBX=1/4]: 100%|██████████| 4/4 [06:41<00:00, 100.41s/it]\n",
      "output unpatchify 0/3 [PBX=4]: 100%|██████████| 1/1 [00:01<00:00,  1.21s/it]\n"
     ]
    },
    {
     "name": "stdout",
     "output_type": "stream",
     "text": [
      "success!\n",
      "TR = 35:  "
     ]
    },
    {
     "name": "stderr",
     "output_type": "stream",
     "text": [
      "patchify [PBX=57319]: 100%|██████████| 1/1 [00:01<00:00,  1.55s/it]\n",
      "linear kernel batchified seqencing [PBX=2184/57319]: 100%|██████████| 27/27 [00:08<00:00,  3.08it/s]\n",
      "unpatchify [PBX=57319]: 100%|██████████| 1/1 [00:03<00:00,  3.19s/it]\n",
      "unpatchify [PBX=57319]: 100%|██████████| 1/1 [00:03<00:00,  3.14s/it]\n",
      "patchify amp 0/3 [PBX=4]: 100%|██████████| 1/1 [00:03<00:00,  3.85s/it]\n",
      "patchify arc 0/3 [PBX=4]: 100%|██████████| 1/1 [00:03<00:00,  3.83s/it]\n",
      "circular segmentation batchified sequencing 0/3 [PBX=1/4]: 100%|██████████| 4/4 [06:41<00:00, 100.37s/it]\n",
      "output unpatchify 0/3 [PBX=4]: 100%|██████████| 1/1 [00:01<00:00,  1.15s/it]\n"
     ]
    },
    {
     "name": "stdout",
     "output_type": "stream",
     "text": [
      "success!\n",
      "TR = 36:  "
     ]
    },
    {
     "name": "stderr",
     "output_type": "stream",
     "text": [
      "patchify [PBX=57319]: 100%|██████████| 1/1 [00:01<00:00,  1.57s/it]\n",
      "linear kernel batchified seqencing [PBX=2184/57319]: 100%|██████████| 27/27 [00:08<00:00,  3.12it/s]\n",
      "unpatchify [PBX=57319]: 100%|██████████| 1/1 [00:03<00:00,  3.23s/it]\n",
      "unpatchify [PBX=57319]: 100%|██████████| 1/1 [00:03<00:00,  3.19s/it]\n",
      "patchify amp 0/3 [PBX=4]: 100%|██████████| 1/1 [00:04<00:00,  4.14s/it]\n",
      "patchify arc 0/3 [PBX=4]: 100%|██████████| 1/1 [00:03<00:00,  3.61s/it]\n",
      "circular segmentation batchified sequencing 0/3 [PBX=1/4]: 100%|██████████| 4/4 [06:41<00:00, 100.43s/it]\n",
      "output unpatchify 0/3 [PBX=4]: 100%|██████████| 1/1 [00:01<00:00,  1.19s/it]\n"
     ]
    },
    {
     "name": "stdout",
     "output_type": "stream",
     "text": [
      "success!\n",
      "TR = 37:  "
     ]
    },
    {
     "name": "stderr",
     "output_type": "stream",
     "text": [
      "patchify [PBX=57319]: 100%|██████████| 1/1 [00:01<00:00,  1.57s/it]\n",
      "linear kernel batchified seqencing [PBX=2184/57319]: 100%|██████████| 27/27 [00:08<00:00,  3.13it/s]\n",
      "unpatchify [PBX=57319]: 100%|██████████| 1/1 [00:03<00:00,  3.17s/it]\n",
      "unpatchify [PBX=57319]: 100%|██████████| 1/1 [00:03<00:00,  3.12s/it]\n",
      "patchify amp 0/3 [PBX=4]: 100%|██████████| 1/1 [00:03<00:00,  3.86s/it]\n",
      "patchify arc 0/3 [PBX=4]: 100%|██████████| 1/1 [00:03<00:00,  3.67s/it]\n",
      "circular segmentation batchified sequencing 0/3 [PBX=1/4]: 100%|██████████| 4/4 [06:41<00:00, 100.38s/it]\n",
      "output unpatchify 0/3 [PBX=4]: 100%|██████████| 1/1 [00:01<00:00,  1.18s/it]\n"
     ]
    },
    {
     "name": "stdout",
     "output_type": "stream",
     "text": [
      "success!\n",
      "TR = 38:  list index out of range\n",
      "TR = 39:  "
     ]
    },
    {
     "name": "stderr",
     "output_type": "stream",
     "text": [
      "patchify [PBX=57319]: 100%|██████████| 1/1 [00:01<00:00,  1.51s/it]\n",
      "linear kernel batchified seqencing [PBX=2184/57319]: 100%|██████████| 27/27 [00:08<00:00,  3.13it/s]\n",
      "unpatchify [PBX=57319]: 100%|██████████| 1/1 [00:03<00:00,  3.26s/it]\n",
      "unpatchify [PBX=57319]: 100%|██████████| 1/1 [00:03<00:00,  3.31s/it]\n",
      "patchify amp 0/3 [PBX=4]: 100%|██████████| 1/1 [00:03<00:00,  3.99s/it]\n",
      "patchify arc 0/3 [PBX=4]: 100%|██████████| 1/1 [00:03<00:00,  3.58s/it]\n",
      "circular segmentation batchified sequencing 0/3 [PBX=1/4]: 100%|██████████| 4/4 [06:41<00:00, 100.35s/it]\n",
      "output unpatchify 0/3 [PBX=4]: 100%|██████████| 1/1 [00:01<00:00,  1.19s/it]\n"
     ]
    },
    {
     "name": "stdout",
     "output_type": "stream",
     "text": [
      "success!\n",
      "TR = 40:  "
     ]
    },
    {
     "name": "stderr",
     "output_type": "stream",
     "text": [
      "patchify [PBX=57319]: 100%|██████████| 1/1 [00:01<00:00,  1.43s/it]\n",
      "linear kernel batchified seqencing [PBX=2184/57319]: 100%|██████████| 27/27 [00:08<00:00,  3.11it/s]\n",
      "unpatchify [PBX=57319]: 100%|██████████| 1/1 [00:03<00:00,  3.23s/it]\n",
      "unpatchify [PBX=57319]: 100%|██████████| 1/1 [00:03<00:00,  3.20s/it]\n",
      "patchify amp 0/3 [PBX=4]: 100%|██████████| 1/1 [00:03<00:00,  3.81s/it]\n",
      "patchify arc 0/3 [PBX=4]: 100%|██████████| 1/1 [00:03<00:00,  3.65s/it]\n",
      "circular segmentation batchified sequencing 0/3 [PBX=1/4]: 100%|██████████| 4/4 [06:41<00:00, 100.36s/it]\n",
      "output unpatchify 0/3 [PBX=4]: 100%|██████████| 1/1 [00:01<00:00,  1.16s/it]\n"
     ]
    },
    {
     "name": "stdout",
     "output_type": "stream",
     "text": [
      "success!\n",
      "TR = 41:  "
     ]
    },
    {
     "name": "stderr",
     "output_type": "stream",
     "text": [
      "patchify [PBX=57319]: 100%|██████████| 1/1 [00:01<00:00,  1.44s/it]\n",
      "linear kernel batchified seqencing [PBX=2184/57319]: 100%|██████████| 27/27 [00:08<00:00,  3.09it/s]\n",
      "unpatchify [PBX=57319]: 100%|██████████| 1/1 [00:03<00:00,  3.17s/it]\n",
      "unpatchify [PBX=57319]: 100%|██████████| 1/1 [00:03<00:00,  3.31s/it]\n",
      "patchify amp 0/3 [PBX=4]: 100%|██████████| 1/1 [00:03<00:00,  3.88s/it]\n",
      "patchify arc 0/3 [PBX=4]: 100%|██████████| 1/1 [00:03<00:00,  3.69s/it]\n",
      "circular segmentation batchified sequencing 0/3 [PBX=1/4]: 100%|██████████| 4/4 [06:41<00:00, 100.28s/it]\n",
      "output unpatchify 0/3 [PBX=4]: 100%|██████████| 1/1 [00:01<00:00,  1.29s/it]\n"
     ]
    },
    {
     "name": "stdout",
     "output_type": "stream",
     "text": [
      "success!\n",
      "TR = 42:  "
     ]
    },
    {
     "name": "stderr",
     "output_type": "stream",
     "text": [
      "patchify [PBX=57319]: 100%|██████████| 1/1 [00:01<00:00,  1.48s/it]\n",
      "linear kernel batchified seqencing [PBX=2184/57319]: 100%|██████████| 27/27 [00:08<00:00,  3.09it/s]\n",
      "unpatchify [PBX=57319]: 100%|██████████| 1/1 [00:03<00:00,  3.23s/it]\n",
      "unpatchify [PBX=57319]: 100%|██████████| 1/1 [00:03<00:00,  3.50s/it]\n",
      "patchify amp 0/3 [PBX=4]: 100%|██████████| 1/1 [00:03<00:00,  3.85s/it]\n",
      "patchify arc 0/3 [PBX=4]: 100%|██████████| 1/1 [00:03<00:00,  3.55s/it]\n",
      "circular segmentation batchified sequencing 0/3 [PBX=1/4]: 100%|██████████| 4/4 [06:41<00:00, 100.36s/it]\n",
      "output unpatchify 0/3 [PBX=4]: 100%|██████████| 1/1 [00:01<00:00,  1.22s/it]\n"
     ]
    },
    {
     "name": "stdout",
     "output_type": "stream",
     "text": [
      "success!\n",
      "TR = 43:  "
     ]
    },
    {
     "name": "stderr",
     "output_type": "stream",
     "text": [
      "patchify [PBX=57319]: 100%|██████████| 1/1 [00:01<00:00,  1.48s/it]\n",
      "linear kernel batchified seqencing [PBX=2184/57319]: 100%|██████████| 27/27 [00:08<00:00,  3.13it/s]\n",
      "unpatchify [PBX=57319]: 100%|██████████| 1/1 [00:03<00:00,  3.23s/it]\n",
      "unpatchify [PBX=57319]: 100%|██████████| 1/1 [00:03<00:00,  3.38s/it]\n",
      "patchify amp 0/3 [PBX=4]: 100%|██████████| 1/1 [00:03<00:00,  3.91s/it]\n",
      "patchify arc 0/3 [PBX=4]: 100%|██████████| 1/1 [00:03<00:00,  3.58s/it]\n",
      "circular segmentation batchified sequencing 0/3 [PBX=1/4]: 100%|██████████| 4/4 [06:41<00:00, 100.33s/it]\n",
      "output unpatchify 0/3 [PBX=4]: 100%|██████████| 1/1 [00:01<00:00,  1.41s/it]\n"
     ]
    },
    {
     "name": "stdout",
     "output_type": "stream",
     "text": [
      "success!\n",
      "TR = 44:  "
     ]
    },
    {
     "name": "stderr",
     "output_type": "stream",
     "text": [
      "patchify [PBX=57319]: 100%|██████████| 1/1 [00:01<00:00,  1.51s/it]\n",
      "linear kernel batchified seqencing [PBX=2184/57319]: 100%|██████████| 27/27 [00:08<00:00,  3.11it/s]\n",
      "unpatchify [PBX=57319]: 100%|██████████| 1/1 [00:03<00:00,  3.19s/it]\n",
      "unpatchify [PBX=57319]: 100%|██████████| 1/1 [00:03<00:00,  3.20s/it]\n",
      "patchify amp 0/3 [PBX=4]: 100%|██████████| 1/1 [00:03<00:00,  3.86s/it]\n",
      "patchify arc 0/3 [PBX=4]: 100%|██████████| 1/1 [00:03<00:00,  3.88s/it]\n",
      "circular segmentation batchified sequencing 0/3 [PBX=1/4]: 100%|██████████| 4/4 [06:41<00:00, 100.32s/it]\n",
      "output unpatchify 0/3 [PBX=4]: 100%|██████████| 1/1 [00:01<00:00,  1.19s/it]\n"
     ]
    },
    {
     "name": "stdout",
     "output_type": "stream",
     "text": [
      "success!\n",
      "TR = 45:  "
     ]
    },
    {
     "name": "stderr",
     "output_type": "stream",
     "text": [
      "patchify [PBX=57319]: 100%|██████████| 1/1 [00:01<00:00,  1.48s/it]\n",
      "linear kernel batchified seqencing [PBX=2184/57319]: 100%|██████████| 27/27 [00:08<00:00,  3.13it/s]\n",
      "unpatchify [PBX=57319]: 100%|██████████| 1/1 [00:03<00:00,  3.29s/it]\n",
      "unpatchify [PBX=57319]: 100%|██████████| 1/1 [00:03<00:00,  3.23s/it]\n",
      "patchify amp 0/3 [PBX=4]: 100%|██████████| 1/1 [00:03<00:00,  3.81s/it]\n",
      "patchify arc 0/3 [PBX=4]: 100%|██████████| 1/1 [00:03<00:00,  3.63s/it]\n",
      "circular segmentation batchified sequencing 0/3 [PBX=1/4]: 100%|██████████| 4/4 [06:41<00:00, 100.35s/it]\n",
      "output unpatchify 0/3 [PBX=4]: 100%|██████████| 1/1 [00:01<00:00,  1.22s/it]\n"
     ]
    },
    {
     "name": "stdout",
     "output_type": "stream",
     "text": [
      "success!\n",
      "TR = 46:  "
     ]
    },
    {
     "name": "stderr",
     "output_type": "stream",
     "text": [
      "patchify [PBX=57319]: 100%|██████████| 1/1 [00:01<00:00,  1.51s/it]\n",
      "linear kernel batchified seqencing [PBX=2184/57319]: 100%|██████████| 27/27 [00:08<00:00,  3.13it/s]\n",
      "unpatchify [PBX=57319]: 100%|██████████| 1/1 [00:03<00:00,  3.16s/it]\n",
      "unpatchify [PBX=57319]: 100%|██████████| 1/1 [00:03<00:00,  3.38s/it]\n",
      "patchify amp 0/3 [PBX=4]: 100%|██████████| 1/1 [00:03<00:00,  3.85s/it]\n",
      "patchify arc 0/3 [PBX=4]: 100%|██████████| 1/1 [00:03<00:00,  3.78s/it]\n",
      "circular segmentation batchified sequencing 0/3 [PBX=1/4]: 100%|██████████| 4/4 [06:41<00:00, 100.36s/it]\n",
      "output unpatchify 0/3 [PBX=4]: 100%|██████████| 1/1 [00:01<00:00,  1.29s/it]\n"
     ]
    },
    {
     "name": "stdout",
     "output_type": "stream",
     "text": [
      "success!\n",
      "TR = 47:  "
     ]
    },
    {
     "name": "stderr",
     "output_type": "stream",
     "text": [
      "patchify [PBX=57319]: 100%|██████████| 1/1 [00:01<00:00,  1.48s/it]\n",
      "linear kernel batchified seqencing [PBX=2184/57319]: 100%|██████████| 27/27 [00:08<00:00,  3.11it/s]\n",
      "unpatchify [PBX=57319]: 100%|██████████| 1/1 [00:03<00:00,  3.34s/it]\n",
      "unpatchify [PBX=57319]: 100%|██████████| 1/1 [00:03<00:00,  3.25s/it]\n",
      "patchify amp 0/3 [PBX=4]: 100%|██████████| 1/1 [00:03<00:00,  3.88s/it]\n",
      "patchify arc 0/3 [PBX=4]: 100%|██████████| 1/1 [00:03<00:00,  3.88s/it]\n",
      "circular segmentation batchified sequencing 0/3 [PBX=1/4]: 100%|██████████| 4/4 [06:41<00:00, 100.25s/it]\n",
      "output unpatchify 0/3 [PBX=4]: 100%|██████████| 1/1 [00:01<00:00,  1.17s/it]\n"
     ]
    },
    {
     "name": "stdout",
     "output_type": "stream",
     "text": [
      "success!\n",
      "TR = 48:  "
     ]
    },
    {
     "name": "stderr",
     "output_type": "stream",
     "text": [
      "patchify [PBX=57319]: 100%|██████████| 1/1 [00:01<00:00,  1.48s/it]\n",
      "linear kernel batchified seqencing [PBX=2184/57319]: 100%|██████████| 27/27 [00:08<00:00,  3.09it/s]\n",
      "unpatchify [PBX=57319]: 100%|██████████| 1/1 [00:03<00:00,  3.14s/it]\n",
      "unpatchify [PBX=57319]: 100%|██████████| 1/1 [00:03<00:00,  3.27s/it]\n",
      "patchify amp 0/3 [PBX=4]: 100%|██████████| 1/1 [00:03<00:00,  3.75s/it]\n",
      "patchify arc 0/3 [PBX=4]: 100%|██████████| 1/1 [00:03<00:00,  3.61s/it]\n",
      "circular segmentation batchified sequencing 0/3 [PBX=1/4]: 100%|██████████| 4/4 [06:41<00:00, 100.28s/it]\n",
      "output unpatchify 0/3 [PBX=4]: 100%|██████████| 1/1 [00:01<00:00,  1.16s/it]\n"
     ]
    },
    {
     "name": "stdout",
     "output_type": "stream",
     "text": [
      "success!\n",
      "TR = 49:  "
     ]
    },
    {
     "name": "stderr",
     "output_type": "stream",
     "text": [
      "patchify [PBX=57319]: 100%|██████████| 1/1 [00:01<00:00,  1.51s/it]\n",
      "linear kernel batchified seqencing [PBX=2184/57319]: 100%|██████████| 27/27 [00:08<00:00,  3.09it/s]\n",
      "unpatchify [PBX=57319]: 100%|██████████| 1/1 [00:03<00:00,  3.32s/it]\n",
      "unpatchify [PBX=57319]: 100%|██████████| 1/1 [00:03<00:00,  3.43s/it]\n",
      "patchify amp 0/3 [PBX=4]: 100%|██████████| 1/1 [00:03<00:00,  3.79s/it]\n",
      "patchify arc 0/3 [PBX=4]: 100%|██████████| 1/1 [00:03<00:00,  3.61s/it]\n",
      "circular segmentation batchified sequencing 0/3 [PBX=1/4]: 100%|██████████| 4/4 [06:41<00:00, 100.32s/it]\n",
      "output unpatchify 0/3 [PBX=4]: 100%|██████████| 1/1 [00:01<00:00,  1.18s/it]\n"
     ]
    },
    {
     "name": "stdout",
     "output_type": "stream",
     "text": [
      "success!\n",
      "TR = 50:  "
     ]
    },
    {
     "name": "stderr",
     "output_type": "stream",
     "text": [
      "patchify [PBX=57319]: 100%|██████████| 1/1 [00:01<00:00,  1.65s/it]\n",
      "linear kernel batchified seqencing [PBX=2184/57319]: 100%|██████████| 27/27 [00:08<00:00,  3.10it/s]\n",
      "unpatchify [PBX=57319]: 100%|██████████| 1/1 [00:03<00:00,  3.49s/it]\n",
      "unpatchify [PBX=57319]: 100%|██████████| 1/1 [00:03<00:00,  3.36s/it]\n",
      "patchify amp 0/3 [PBX=4]: 100%|██████████| 1/1 [00:03<00:00,  3.81s/it]\n",
      "patchify arc 0/3 [PBX=4]: 100%|██████████| 1/1 [00:03<00:00,  3.58s/it]\n",
      "circular segmentation batchified sequencing 0/3 [PBX=1/4]: 100%|██████████| 4/4 [06:41<00:00, 100.35s/it]\n",
      "output unpatchify 0/3 [PBX=4]: 100%|██████████| 1/1 [00:01<00:00,  1.21s/it]\n"
     ]
    },
    {
     "name": "stdout",
     "output_type": "stream",
     "text": [
      "success!\n",
      "TR = 51:  "
     ]
    },
    {
     "name": "stderr",
     "output_type": "stream",
     "text": [
      "patchify [PBX=57319]: 100%|██████████| 1/1 [00:01<00:00,  1.47s/it]\n",
      "linear kernel batchified seqencing [PBX=2184/57319]: 100%|██████████| 27/27 [00:08<00:00,  3.10it/s]\n",
      "unpatchify [PBX=57319]: 100%|██████████| 1/1 [00:03<00:00,  3.21s/it]\n",
      "unpatchify [PBX=57319]: 100%|██████████| 1/1 [00:03<00:00,  3.17s/it]\n",
      "patchify amp 0/3 [PBX=4]: 100%|██████████| 1/1 [00:04<00:00,  4.11s/it]\n",
      "patchify arc 0/3 [PBX=4]: 100%|██████████| 1/1 [00:03<00:00,  3.59s/it]\n",
      "circular segmentation batchified sequencing 0/3 [PBX=1/4]: 100%|██████████| 4/4 [06:41<00:00, 100.34s/it]\n",
      "output unpatchify 0/3 [PBX=4]: 100%|██████████| 1/1 [00:01<00:00,  1.18s/it]\n"
     ]
    },
    {
     "name": "stdout",
     "output_type": "stream",
     "text": [
      "success!\n",
      "TR = 52:  "
     ]
    },
    {
     "name": "stderr",
     "output_type": "stream",
     "text": [
      "patchify [PBX=57319]: 100%|██████████| 1/1 [00:01<00:00,  1.47s/it]\n",
      "linear kernel batchified seqencing [PBX=2184/57319]: 100%|██████████| 27/27 [00:08<00:00,  3.09it/s]\n",
      "unpatchify [PBX=57319]: 100%|██████████| 1/1 [00:03<00:00,  3.14s/it]\n",
      "unpatchify [PBX=57319]: 100%|██████████| 1/1 [00:03<00:00,  3.43s/it]\n",
      "patchify amp 0/3 [PBX=4]: 100%|██████████| 1/1 [00:03<00:00,  3.72s/it]\n",
      "patchify arc 0/3 [PBX=4]: 100%|██████████| 1/1 [00:03<00:00,  3.58s/it]\n",
      "circular segmentation batchified sequencing 0/3 [PBX=1/4]: 100%|██████████| 4/4 [06:41<00:00, 100.35s/it]\n",
      "output unpatchify 0/3 [PBX=4]: 100%|██████████| 1/1 [00:01<00:00,  1.30s/it]\n"
     ]
    },
    {
     "name": "stdout",
     "output_type": "stream",
     "text": [
      "success!\n",
      "TR = 53:  "
     ]
    },
    {
     "name": "stderr",
     "output_type": "stream",
     "text": [
      "patchify [PBX=57319]: 100%|██████████| 1/1 [00:01<00:00,  1.62s/it]\n",
      "linear kernel batchified seqencing [PBX=2184/57319]: 100%|██████████| 27/27 [00:08<00:00,  3.10it/s]\n",
      "unpatchify [PBX=57319]: 100%|██████████| 1/1 [00:03<00:00,  3.31s/it]\n",
      "unpatchify [PBX=57319]: 100%|██████████| 1/1 [00:03<00:00,  3.12s/it]\n",
      "patchify amp 0/3 [PBX=4]: 100%|██████████| 1/1 [00:03<00:00,  3.85s/it]\n",
      "patchify arc 0/3 [PBX=4]: 100%|██████████| 1/1 [00:03<00:00,  3.62s/it]\n",
      "circular segmentation batchified sequencing 0/3 [PBX=1/4]: 100%|██████████| 4/4 [06:41<00:00, 100.34s/it]\n",
      "output unpatchify 0/3 [PBX=4]: 100%|██████████| 1/1 [00:01<00:00,  1.24s/it]\n"
     ]
    },
    {
     "name": "stdout",
     "output_type": "stream",
     "text": [
      "success!\n",
      "TR = 54:  "
     ]
    },
    {
     "name": "stderr",
     "output_type": "stream",
     "text": [
      "patchify [PBX=57319]: 100%|██████████| 1/1 [00:01<00:00,  1.60s/it]\n",
      "linear kernel batchified seqencing [PBX=2184/57319]: 100%|██████████| 27/27 [00:08<00:00,  3.13it/s]\n",
      "unpatchify [PBX=57319]: 100%|██████████| 1/1 [00:03<00:00,  3.22s/it]\n",
      "unpatchify [PBX=57319]: 100%|██████████| 1/1 [00:03<00:00,  3.16s/it]\n",
      "patchify amp 0/3 [PBX=4]: 100%|██████████| 1/1 [00:03<00:00,  3.83s/it]\n",
      "patchify arc 0/3 [PBX=4]: 100%|██████████| 1/1 [00:03<00:00,  3.72s/it]\n",
      "circular segmentation batchified sequencing 0/3 [PBX=1/4]: 100%|██████████| 4/4 [06:41<00:00, 100.35s/it]\n",
      "output unpatchify 0/3 [PBX=4]: 100%|██████████| 1/1 [00:01<00:00,  1.32s/it]\n"
     ]
    },
    {
     "name": "stdout",
     "output_type": "stream",
     "text": [
      "success!\n"
     ]
    }
   ],
   "source": [
    "for si in range(3, 55):\n",
    "    try:\n",
    "        print(f\"TR = {si}: \", end=\" \")\n",
    "        tdsp = dcircsegm_path.format(si=si)\n",
    "\n",
    "        ds_path_l = glob.glob(tdsp)\n",
    "        ds_path_l = sorted(ds_path_l)\n",
    "\n",
    "        ds_l = [pydicom.dcmread(ds_path) for ds_path in ds_path_l]\n",
    "        ds_ = ds_l[0]\n",
    "        dsa_dstsc = na(ds_.PixelSpacing) / na([0.416015625, 0.416015625])\n",
    "        dsa_dstsh = (na(ds_.pixel_array.shape) * dsa_dstsc).astype(int)\n",
    "\n",
    "        dsa = na([cv2.resize(ds.pixel_array, dsa_dstsh, interpolation=cv2.INTER_CUBIC) for ds in ds_l])\n",
    "        dsi = dsa.astype(proc_dtype)\n",
    "        dsv = (dsa*(256/dsa.max())).astype(np.uint8)\n",
    "\n",
    "        dsa_amp_pl, dsa_arc_pl  = fcn_gradient(dsi)\n",
    "        ds_circsegmout          = fcn_circsegm(dsa_amp_pl, dsa_arc_pl)\n",
    "\n",
    "        with gzip.open(dcircsegm_path.format(si=si), \"wb\") as f:\n",
    "            np.save(f, xh(ds_circsegmout), allow_pickle=True)\n",
    "        print(\"success!\")\n",
    "\n",
    "    except Exception as e:\n",
    "        print(e)"
   ]
  },
  {
   "cell_type": "code",
   "execution_count": null,
   "metadata": {},
   "outputs": [],
   "source": []
  },
  {
   "cell_type": "code",
   "execution_count": 17,
   "metadata": {},
   "outputs": [
    {
     "name": "stdout",
     "output_type": "stream",
     "text": [
      "(1101,) (1101, 2, 3) (1101, 2)\n"
     ]
    }
   ],
   "source": [
    "## DRAW > SEGM PIPES\n",
    "xd, xh, xa, xp = xm[cp]\n",
    "\n",
    "# ss = xd(np.unique(xh(xp.concatenate([xx for xx in chain2se2e[chacc]])), axis=0)) ## DUMP\n",
    "# ss = xp.unique(xp.concatenate([xx for xx in chain2sarg[chacc]]))\n",
    "ss = xp.unique(xp.concatenate([xx for xx in chain2sarg])) ## MOD\n",
    "ssc = dscs_coord[segm_uniqs[ss]]\n",
    "ssr = dscs_radii[segm_uniqs[ss]]\n",
    "print(ss.shape, ssc.shape, ssr.shape)\n",
    "\n",
    "def drawz(shape, s12l, r12l, val):\n",
    "    oxt = xp.ogrid[tuple(slice(shx) for shx in shape)]\n",
    "    out = xp.zeros(shape, proc_dtype)\n",
    "    for (s1, s2), (r1, r2) in zip(s12l, r12l):\n",
    "        if s1[0] == s2[0]: continue\n",
    "        if s1[0]  > s2[0]: s1, s2 = s2, s1\n",
    "        s2[0] += 1\n",
    "        vec = s2 - s1\n",
    "        vec = vec / vec[0]\n",
    "        rad = r1 + (xp.arange(s2[0]-s1[0]) * (r2-r1)/(s2[0]-s1[0]))\n",
    "\n",
    "        out[s1[0]:s2[0]] = xp.maximum(out[s1[0]:s2[0]], (\n",
    "                    ((oxt[1] - ((oxt[0][s1[0]:s2[0]]-s1[0])*vec[1] + s1[1]))**2) \n",
    "                +   ((oxt[2] - ((oxt[0][s1[0]:s2[0]]-s1[0])*vec[2] + s1[2]))**2) \n",
    "            < rad[:, None, None]**2))\n",
    "    return out * val\n",
    "\n",
    "def arccz(shape, s12l, r12l, val):\n",
    "    arccut_tol = xp.pi* .25\n",
    "    arccut_tol_cos = xp.cos(arccut_tol)\n",
    "\n",
    "    oxt = xp.ogrid[tuple(slice(shx) for shx in shape)]\n",
    "    out = xp.ones(shape, proc_dtype)\n",
    "    for (s1, s2), (r1, r2) in zip(s12l, r12l):\n",
    "        if s1[0] == s2[0]: continue\n",
    "        if s1[0]  > s2[0]: s1, s2 = s2, s1\n",
    "        s2[0] += 1\n",
    "        vec = s2 - s1\n",
    "        vec = vec / vec[0]\n",
    "        # rad = r1 + (xp.arange(s2[0]-s1[0]) * (r2-r1)/(s2[0]-s1[0]))\n",
    "\n",
    "        out[s1[0]:s2[0]] = xp.minimum(out[s1[0]:s2[0]], xp.cos(xp.arctan2(\n",
    "                ((oxt[2] - ((oxt[0][s1[0]:s2[0]]-s1[0])*vec[2] + s1[2]))),\n",
    "                ((oxt[1] - ((oxt[0][s1[0]:s2[0]]-s1[0])*vec[1] + s1[1])))\n",
    "            ) + xp.pi - val) <= arccut_tol_cos)\n",
    "    return out\n",
    "\n",
    "# t = xh(drawz(dsa.shape, xd(ssc), xd(ssr), 4096)) + dsa # + xh((ds_circsegmout[0]>0)*4e3)\n",
    "t = xh(drawz(dsa.shape, xd(ssc), xd(ssr), dsa.max()//4)) + dsa\n",
    "# dsv = dsa * xh(drawz(dsa.shape, xd(ssc), xd(ssr), 1) + (xp.mgrid[tuple(slice(sx) for sx in dsa.shape)][0] > 200))\n",
    "# t = xh(arccz(dsa.shape, xd(ssc), xd(ssr), 0)) * dsa\n"
   ]
  },
  {
   "cell_type": "code",
   "execution_count": 18,
   "metadata": {},
   "outputs": [],
   "source": [
    "## DRAW > 3D\n",
    "figure = vispy.plot.Fig(bgcolor='k', size=(800, 800), show=True) #\n",
    "volume = figure[0].volume(t[::-1], texture_format='auto', method='mip') # iso|mip\n",
    "\n",
    "canvas = volume.canvas\n",
    "\n",
    "@canvas.events.key_press.connect\n",
    "def on_key_press(event):\n",
    "    if event.key.name == 'Q': \n",
    "        # timer.stop()\n",
    "        canvas.close()\n",
    "    if event.key.name == 'A':\n",
    "        az = figure[0].camera.get_state()['azimuth'] /180*xp.pi\n",
    "        volume.set_data((xh(arccz(dsa.shape, xd(ssc), xd(ssr), -az)) * dsa)[::-1])\n",
    "        canvas.show()\n",
    "\n",
    "canvas.show()\n",
    "vispy.app.run()\n"
   ]
  },
  {
   "cell_type": "code",
   "execution_count": 23,
   "metadata": {},
   "outputs": [],
   "source": [
    "## DRAW DSCS\n",
    "xd, xh, xa, xp = xm[cp]\n",
    "dsd = xh((dsa/dsa.max()*255).astype(xp.uint8))\n",
    "for i in range(dsd.shape[0]):\n",
    "    si = dscs_coord[:, 0]==i\n",
    "    cl = dscs_coord[si][:, [2,1]]\n",
    "    rl = dscs_radii[si]\n",
    "    for xy, r in zip(cl, rl):\n",
    "        cv2.circle(dsd[i], xh(xy), int(xh(r)), 128, 1)\n",
    "    si_s= dscs_coord[(dscs_coord[:, 0]==i)*dscs_segme][:, [2,1]]\n",
    "    for xy in si_s: cv2.drawMarker(dsd[i], xh(xy), 0, cv2.MARKER_CROSS)\n",
    "    si_s= dscs_coord[(dscs_coord[:, 0]==i)*dscs_junct][:, [2,1]]\n",
    "    for xy in si_s: cv2.drawMarker(dsd[i], xh(xy), 0, cv2.MARKER_SQUARE)\n",
    "    si_s= dscs_coord[(dscs_coord[:, 0]==i)*dscs_point][:, [2,1]]\n",
    "    for xy in si_s: cv2.drawMarker(dsd[i], xh(xy), 0, cv2.MARKER_TRIANGLE_UP)\n",
    "    si_s= dscs_coord[(dscs_coord[:, 0]==i)*(~(dscs_segme+dscs_junct+dscs_point))][:, [2,1]]\n",
    "    for xy in si_s: cv2.drawMarker(dsd[i], xh(xy), 0, cv2.MARKER_DIAMOND)\n"
   ]
  },
  {
   "cell_type": "code",
   "execution_count": 24,
   "metadata": {},
   "outputs": [],
   "source": [
    "## VIS -> DCA\n",
    "# from numba import jit, njit\n",
    "\n",
    "# %matplotlib ipympl\n",
    "%matplotlib qt\n",
    "plt.ion()\n",
    "\n",
    "view_dsa_l = [\n",
    "    # dsa+(xh(ds_circsegmout[0]>0) * 1e4),\n",
    "    # dsa+(xh(ds_circsegmout[1]>0) * 1e4),\n",
    "    # dsa+(xh(ds_circsegmout[2]>0) * 1e4),\n",
    "    # ds_circsegmout[0] #, 100:400, 100:400, 100:400]\n",
    "    t,\n",
    "    dsd,\n",
    "]\n",
    "view_center_axes_names = \"ZYX\"\n",
    "view_slice_axes = ((1, 2), (0, 2), (0, 1))  # common for v_dsa\n",
    "view_center_l = [np.asarray(dsax.shape) //2 for dsax in view_dsa_l]\n",
    "\n",
    "figsize = 5\n",
    "vfig_res = (view_dsa_l.__len__(), view_slice_axes.__len__())\n",
    "vfig, vax_l = plt.subplots(\n",
    "    *vfig_res,\n",
    "    figsize=[figsize*vfr for vfr in vfig_res[::-1]])\n",
    "if vax_l.shape.__len__() == 1:\n",
    "    vax_l = vax_l[None, ...]\n",
    "\n",
    "vai_l = np.zeros(vax_l.shape, dtype=list)\n",
    "for vdsa_ix, vdsa in enumerate(view_dsa_l):\n",
    "    for vsx_ix, vsxx in enumerate(view_slice_axes):\n",
    "        vaxx = vax_l[vdsa_ix][vsx_ix]\n",
    "        blank_im = np.zeros(\n",
    "            (vdsa.shape[vsxx[0]], vdsa.shape[vsxx[1]]),\n",
    "            dtype = vdsa.dtype)\n",
    "        blank_im[0, 0] = vdsa.max()\n",
    "        axis_image = vaxx.imshow(blank_im)#, cmap='gray')\n",
    "        axis_center = vaxx.plot([0], [0], marker='+', c='r')\n",
    "        axis_title = vaxx.set_title(\"\")\n",
    "        axis_ylabel = vaxx.set_ylabel(\"\")\n",
    "        \n",
    "        vai_l[vdsa_ix][vsx_ix] = [\n",
    "            axis_image,\n",
    "            axis_center[0],\n",
    "            axis_title,\n",
    "            axis_ylabel,\n",
    "        ]\n",
    "\n",
    "# @jit(nopython=False)\n",
    "def update_dsa_view(vdsa_ix):\n",
    "    vai = vai_l[vdsa_ix]\n",
    "    vsx = view_slice_axes\n",
    "    vce = view_center_l[vdsa_ix]\n",
    "    vdsa = view_dsa_l[vdsa_ix]\n",
    "\n",
    "    for axex, axes in enumerate(vsx):\n",
    "        indices = tuple((vce[axix] if axix not in axes else slice(None)) \n",
    "            for axix in range(vce.__len__()))\n",
    "        sliced = vdsa[indices] # if axes[0] < axes[1] else vdsa[indices].T\n",
    "        # print(vax[axex].imshow(sliced))\n",
    "        vai[axex][0].set_data(sliced)\n",
    "\n",
    "        slice_center = ([vce[axes[1]]], [vce[axes[0]]])\n",
    "        vai[axex][1].set_data(*slice_center)\n",
    "\n",
    "        indices_str = \", \".join(tuple(f\"{axix_name}={vce[axix]}\" if axix not in axes else f\"{axix_name}:\" \n",
    "            for axix, axix_name in enumerate(view_center_axes_names)))\n",
    "        vai[axex][2].set_text(indices_str)\n",
    "\n",
    "    vai[0][3].set_text(str(vce))\n",
    "    vfig.canvas.draw()\n",
    "    # vfig.canvas.flush_events()\n",
    "    # plt.gcf().canvas.draw()\n",
    "\n",
    "def update_center(vdsa_ix, vax_ix, xy_center):\n",
    "    view_center = view_center_l[vdsa_ix]\n",
    "    slice_axes_updated = view_slice_axes[vax_ix]\n",
    "    view_center[slice_axes_updated[0]] = xy_center[1]\n",
    "    view_center[slice_axes_updated[1]] = xy_center[0]\n",
    "\n",
    "def mouse_callback(event):\n",
    "    on_canvas = event.inaxes is not None\n",
    "    xy = (int(event.xdata), int(event.ydata)) if on_canvas else (None, None)\n",
    "    vdsa_ix, vax_ix = np.argwhere(vax_l == event.inaxes)[0] if on_canvas else (None, None)\n",
    "    button, dc = (int(event.button), event.dblclick)\n",
    "    # print(event)\n",
    "    # print(on_canvas, xy, (vdsa_ix, vax_ix), (button, dc))\n",
    "\n",
    "    if on_canvas:\n",
    "        if button == 1:\n",
    "            update_center(vdsa_ix, vax_ix, xy)\n",
    "            update_dsa_view(vdsa_ix)\n",
    "        elif button == 3:\n",
    "            for vdsa_ix in range(view_dsa_l.__len__()):\n",
    "                update_center(vdsa_ix, vax_ix, xy)\n",
    "                update_dsa_view(vdsa_ix)\n",
    "\n",
    "def keyboard_callback(event):\n",
    "    k = event.key\n",
    "    di = 0\n",
    "    if k == \"up\": di=-1\n",
    "    if k == \"down\": di=1\n",
    "\n",
    "    for vdsa_ix in range(view_dsa_l.__len__()):\n",
    "        view_center_l[vdsa_ix][0] += di\n",
    "        update_dsa_view(vdsa_ix)\n",
    "\n",
    "for vdsa_ix in range(view_dsa_l.__len__()):\n",
    "    update_dsa_view(vdsa_ix)\n",
    "\n",
    "vfig.canvas.mpl_connect('button_press_event', mouse_callback)\n",
    "vfig.canvas.mpl_connect('key_press_event', keyboard_callback)\n",
    "vfig.tight_layout()\n",
    "# vfig.canvas.draw()"
   ]
  },
  {
   "cell_type": "code",
   "execution_count": null,
   "metadata": {},
   "outputs": [],
   "source": []
  }
 ],
 "metadata": {
  "kernelspec": {
   "display_name": "Python 3 (ipykernel)",
   "language": "python",
   "name": "python3"
  },
  "language_info": {
   "codemirror_mode": {
    "name": "ipython",
    "version": 3
   },
   "file_extension": ".py",
   "mimetype": "text/x-python",
   "name": "python",
   "nbconvert_exporter": "python",
   "pygments_lexer": "ipython3",
   "version": "3.10.8"
  }
 },
 "nbformat": 4,
 "nbformat_minor": 2
}
